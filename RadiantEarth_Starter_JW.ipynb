{
  "nbformat": 4,
  "nbformat_minor": 0,
  "metadata": {
    "colab": {
      "name": "RadiantEarth Starter JW.ipynb",
      "provenance": [],
      "collapsed_sections": [],
      "include_colab_link": true
    },
    "kernelspec": {
      "name": "python3",
      "display_name": "Python 3"
    }
  },
  "cells": [
    {
      "cell_type": "markdown",
      "metadata": {
        "id": "view-in-github",
        "colab_type": "text"
      },
      "source": [
        "<a href=\"https://colab.research.google.com/github/dataplusplus-ai/Computer_Vision_Deep_Learning/blob/main/RadiantEarth_Starter_JW.ipynb\" target=\"_parent\"><img src=\"https://colab.research.google.com/assets/colab-badge.svg\" alt=\"Open In Colab\"/></a>"
      ]
    },
    {
      "cell_type": "markdown",
      "metadata": {
        "id": "533Q-XzAd-5Q"
      },
      "source": [
        "# Starter Notebook - RadiantEarth Crop ID challenge (ICLR #2)\n",
        "\n",
        "This takes you through a quick entry into the zindi contest here: https://zindi.africa/competitions/iclr-workshop-challenge-2-radiant-earth-computer-vision-for-crop-recognition\n",
        "\n",
        "We \n",
        "- Download the data (tif files from radiant earth)\n",
        "- Sample the images to get the data into an easy tabular form \n",
        "- Fit a model on this data, and experiment with grouping by field or doing pixel-wise predictions\n",
        "- Make a submission to Zindi\n",
        "\n",
        "Please give attribution if you use this notebook as inspiration for your entry :)\n",
        "\n",
        "Good luck!\n",
        "\n",
        "Jonathan"
      ]
    },
    {
      "cell_type": "markdown",
      "metadata": {
        "id": "gbhvBep2vNGQ"
      },
      "source": [
        "# Data Download\n",
        "\n",
        "This section is essentially a clone of the proviced starter notebooks: https://github.com/radiantearth/mlhub-tutorials/tree/master/notebooks/2020%20CV4A%20Crop%20Type%20Challenge\n",
        "\n",
        "Hopefully you won't need to run this more than once!\n",
        "\n",
        "At the end of this section you should have all the images and labels downloaded into a folder called data."
      ]
    },
    {
      "cell_type": "code",
      "metadata": {
        "id": "W9wh_ALRlju7"
      },
      "source": [
        "# Required libraries\n",
        "import requests\n",
        "from urllib.parse import urlparse\n",
        "from pathlib import Path\n",
        "from datetime import datetime"
      ],
      "execution_count": null,
      "outputs": []
    },
    {
      "cell_type": "code",
      "metadata": {
        "id": "L_Sp500flc2k"
      },
      "source": [
        "API = 'YOUR KEY HERE'"
      ],
      "execution_count": null,
      "outputs": []
    },
    {
      "cell_type": "code",
      "metadata": {
        "id": "kZncmyaWllPC"
      },
      "source": [
        "!mkdir data"
      ],
      "execution_count": null,
      "outputs": []
    },
    {
      "cell_type": "code",
      "metadata": {
        "id": "nWOdAnchlnfR"
      },
      "source": [
        "output_path = Path(\"data/\")"
      ],
      "execution_count": null,
      "outputs": []
    },
    {
      "cell_type": "code",
      "metadata": {
        "id": "Dz7IHueqlnwd"
      },
      "source": [
        "# these headers will be used in each request\n",
        "headers = {\n",
        "    'Authorization': f'Bearer {API}',\n",
        "    'Accept':'application/json'\n",
        "}"
      ],
      "execution_count": null,
      "outputs": []
    },
    {
      "cell_type": "code",
      "metadata": {
        "id": "Yi9W6q7flqJh"
      },
      "source": [
        "def get_download_url(item, asset_key, headers):\n",
        "    asset = item.get('assets', {}).get(asset_key, None)\n",
        "    if asset is None:\n",
        "        print(f'Asset \"{asset_key}\" does not exist in this item')\n",
        "        return None\n",
        "    r = requests.get(asset.get('href'), headers=headers, allow_redirects=False)\n",
        "    return r.headers.get('Location')\n",
        "\n",
        "def download_label(url, output_path, tileid):\n",
        "    filename = urlparse(url).path.split('/')[-1]\n",
        "    outpath = output_path/tileid\n",
        "    outpath.mkdir(parents=True, exist_ok=True)\n",
        "    \n",
        "    r = requests.get(url)\n",
        "    f = open(outpath/filename, 'wb')\n",
        "    for chunk in r.iter_content(chunk_size=512 * 1024): \n",
        "        if chunk:\n",
        "            f.write(chunk)\n",
        "    f.close()\n",
        "    print(f'Downloaded {filename}')\n",
        "    return \n",
        "\n",
        "def download_imagery(url, output_path, tileid, date):\n",
        "    filename = urlparse(url).path.split('/')[-1]\n",
        "    outpath = output_path/tileid/date\n",
        "    outpath.mkdir(parents=True, exist_ok=True)\n",
        "    \n",
        "    r = requests.get(url)\n",
        "    f = open(outpath/filename, 'wb')\n",
        "    for chunk in r.iter_content(chunk_size=512 * 1024): \n",
        "        if chunk:\n",
        "            f.write(chunk)\n",
        "    f.close()\n",
        "    print(f'Downloaded {filename}')\n",
        "    return"
      ],
      "execution_count": null,
      "outputs": []
    },
    {
      "cell_type": "code",
      "metadata": {
        "id": "Hetts5rOlt-X"
      },
      "source": [
        "# paste the id of the labels collection:\n",
        "collectionId = 'ref_african_crops_kenya_02_labels'\n",
        "\n",
        "# these optional parameters can be used to control what items are returned. \n",
        "# Here, we want to download all the items so:\n",
        "limit = 100 \n",
        "bounding_box = []\n",
        "date_time = []\n",
        "\n",
        "# retrieves the items and their metadata in the collection\n",
        "r = requests.get(f'https://api.radiant.earth/mlhub/v1/collections/{collectionId}/items', params={'limit':limit, 'bbox':bounding_box,'datetime':date_time}, headers=headers)\n",
        "collection = r.json()"
      ],
      "execution_count": null,
      "outputs": []
    },
    {
      "cell_type": "code",
      "metadata": {
        "id": "gPH_5BwGlw8i",
        "colab": {
          "base_uri": "https://localhost:8080/",
          "height": 90
        },
        "outputId": "f68f8b84-053d-4c13-895e-d0ecaeb13741"
      },
      "source": [
        "# retrieve list of features (in this case tiles) in the collection\n",
        "for feature in collection.get('features', []):\n",
        "    assets = feature.get('assets').keys()\n",
        "    print(\"Feature\", feature.get('id'), 'with the following assets', list(assets))"
      ],
      "execution_count": null,
      "outputs": [
        {
          "output_type": "stream",
          "text": [
            "Feature ref_african_crops_kenya_02_tile_02_label with the following assets ['field_train_test_ids', 'field_ids', 'labels']\n",
            "Feature ref_african_crops_kenya_02_tile_03_label with the following assets ['field_train_test_ids', 'field_ids', 'labels']\n",
            "Feature ref_african_crops_kenya_02_tile_01_label with the following assets ['field_train_test_ids', 'field_ids', 'labels']\n",
            "Feature ref_african_crops_kenya_02_tile_00_label with the following assets ['field_train_test_ids', 'field_ids', 'labels']\n"
          ],
          "name": "stdout"
        }
      ]
    },
    {
      "cell_type": "code",
      "metadata": {
        "id": "ZvS0uEkXlzHm"
      },
      "source": [
        "for feature in collection.get('features', []):\n",
        "    \n",
        "    tileid = feature.get('id').split('tile_')[-1][:2]\n",
        "\n",
        "    # download labels\n",
        "    download_url = get_download_url(feature, 'labels', headers)\n",
        "    download_label(download_url, output_path, tileid)\n",
        "    \n",
        "    #download field_ids\n",
        "    download_url = get_download_url(feature, 'field_ids', headers)\n",
        "    download_label(download_url, output_path, tileid)"
      ],
      "execution_count": null,
      "outputs": []
    },
    {
      "cell_type": "code",
      "metadata": {
        "id": "yNYxkjUGl1_n"
      },
      "source": [
        "# paste the id of the imagery collection:\n",
        "collectionId = 'ref_african_crops_kenya_02_source'\n",
        "\n",
        "# these optional parameters can be used to control what items are returned. \n",
        "# Here, we want to download all the items so:\n",
        "limit = 100 \n",
        "bounding_box = []\n",
        "date_time = []\n",
        "\n",
        "# retrieves the items and their metadata in the collection\n",
        "r = requests.get(f'https://api.radiant.earth/mlhub/v1/collections/{collectionId}/items', params={'limit':limit, 'bbox':bounding_box,'datetime':date_time}, headers=headers)\n",
        "collection = r.json()"
      ],
      "execution_count": null,
      "outputs": []
    },
    {
      "cell_type": "code",
      "metadata": {
        "id": "CLX99JrEl7Fn"
      },
      "source": [
        "# List assets of the items\n",
        "for feature in collection.get('features', []):\n",
        "    assets = feature.get('assets').keys()\n",
        "    print(list(assets))\n",
        "    break #all the features have the same type of assets. for simplicity we break the loop here."
      ],
      "execution_count": null,
      "outputs": []
    },
    {
      "cell_type": "code",
      "metadata": {
        "id": "x9Xotqj-l9Zw"
      },
      "source": [
        "# This cell downloads all the multi-spectral images throughout the growing season for this competition.\n",
        "# The size of data is about 1.5 GB, and download time depends on your internet connection. \n",
        "# Note that you only need to run this cell and download the data once.\n",
        "i = 0\n",
        "for feature in collection.get('features', []):\n",
        "    assets = feature.get('assets').keys()\n",
        "    tileid = feature.get('id').split('tile_')[-1][:2]\n",
        "    date = datetime.strftime(datetime.strptime(feature.get('properties')['datetime'], \"%Y-%m-%dT%H:%M:%SZ\"), \"%Y%m%d\")\n",
        "    for asset in assets:\n",
        "        i += 1\n",
        "        if i > 0: # if resuming after it failed\n",
        "          download_url = get_download_url(feature, asset, headers)\n",
        "          download_imagery(download_url, output_path, tileid, date)"
      ],
      "execution_count": null,
      "outputs": []
    },
    {
      "cell_type": "markdown",
      "metadata": {
        "id": "dkjfCqsvvjSZ"
      },
      "source": [
        "# Opening files\n",
        "\n",
        "Again, this is mainly code from the starter notebook shared to open the tiff files as arrays. I add in a way to view the sentinel images as RGB since that's pretty cool, but it isn't actually useful for our purposes."
      ]
    },
    {
      "cell_type": "code",
      "metadata": {
        "id": "5MLym8hle6sv"
      },
      "source": [
        "!pip install tifffile"
      ],
      "execution_count": null,
      "outputs": []
    },
    {
      "cell_type": "code",
      "metadata": {
        "id": "sM2UblMsl_YH"
      },
      "source": [
        "# Required libraries\n",
        "import tifffile as tiff\n",
        "import datetime\n",
        "import matplotlib.pyplot as plt\n",
        "%matplotlib inline"
      ],
      "execution_count": null,
      "outputs": []
    },
    {
      "cell_type": "code",
      "metadata": {
        "id": "m9WFyk7hyiBS"
      },
      "source": [
        "def load_file(fp):\n",
        "    \"\"\"Takes a PosixPath object or string filepath\n",
        "    and returns np array\"\"\"\n",
        "    \n",
        "    return tiff.imread(fp.__str__())"
      ],
      "execution_count": null,
      "outputs": []
    },
    {
      "cell_type": "code",
      "metadata": {
        "id": "JHlhcvxSykOm"
      },
      "source": [
        "# List of dates that an observation from Sentinel-2 is provided in the training dataset\n",
        "dates = [datetime.datetime(2019, 6, 6, 8, 10, 7),\n",
        "         datetime.datetime(2019, 7, 1, 8, 10, 4),\n",
        "         datetime.datetime(2019, 7, 6, 8, 10, 8),\n",
        "         datetime.datetime(2019, 7, 11, 8, 10, 4),\n",
        "         datetime.datetime(2019, 7, 21, 8, 10, 4),\n",
        "         datetime.datetime(2019, 8, 5, 8, 10, 7),\n",
        "         datetime.datetime(2019, 8, 15, 8, 10, 6),\n",
        "         datetime.datetime(2019, 8, 25, 8, 10, 4),\n",
        "         datetime.datetime(2019, 9, 9, 8, 9, 58),\n",
        "         datetime.datetime(2019, 9, 19, 8, 9, 59),\n",
        "         datetime.datetime(2019, 9, 24, 8, 9, 59),\n",
        "         datetime.datetime(2019, 10, 4, 8, 10),\n",
        "         datetime.datetime(2019, 11, 3, 8, 10)]"
      ],
      "execution_count": null,
      "outputs": []
    },
    {
      "cell_type": "code",
      "metadata": {
        "id": "DIGv9eWWynrh"
      },
      "source": [
        "bands = ['B01', 'B02', 'B03', 'B04', 'B05', 'B06', 'B07', 'B08', 'B8A', 'B09', 'B11', 'B12', 'CLD']"
      ],
      "execution_count": null,
      "outputs": []
    },
    {
      "cell_type": "code",
      "metadata": {
        "id": "Vvcl26Lkypk7"
      },
      "source": [
        "# Sample file to load:\n",
        "file_name = \"data/00/20190825/0_B03_20190825.tif\"\n",
        "band_data = load_file(file_name)"
      ],
      "execution_count": null,
      "outputs": []
    },
    {
      "cell_type": "code",
      "metadata": {
        "id": "PXtAfgb0yrbn"
      },
      "source": [
        "fig = plt.figure(figsize=(7, 7))\n",
        "plt.imshow(band_data, vmin=0, vmax=0.15)"
      ],
      "execution_count": null,
      "outputs": []
    },
    {
      "cell_type": "code",
      "metadata": {
        "id": "GWL_a94Oyuxk"
      },
      "source": [
        "# Quick way to see an RGB image. Can mess with the scaling factor to change brightness (3 in this example)\n",
        "\n",
        "import numpy as np\n",
        "def load_rgb(tile, date):\n",
        "\n",
        "  r = load_file(f\"data/{tile}/{date}/{tile[1]}_B04_{date}.tif\")\n",
        "  g = load_file(f\"data/{tile}/{date}/{tile[1]}_B03_{date}.tif\")\n",
        "  b = load_file(f\"data/{tile}/{date}/{tile[1]}_B02_{date}.tif\")\n",
        "  arr = np.dstack((r, g, b))\n",
        "  print(max(g.flatten()))\n",
        "  return arr\n",
        "\n",
        "fig, ax = plt.subplots(figsize=(12, 18))\n",
        "ax.imshow(load_rgb('01', '20190825')*3)\n",
        "plt.tight_layout()"
      ],
      "execution_count": null,
      "outputs": []
    },
    {
      "cell_type": "markdown",
      "metadata": {
        "id": "cFtk8wvz53JV"
      },
      "source": [
        "# Getting data for each pixel in fields\n",
        "\n",
        "This is where we start massaging the data into a format we can use. I read in the labels, find the pixel locations of all the fields (most are only a few pixels in size) and store the pixel locations, the field ID and the label.\n",
        "\n",
        "Then we loop through al the images, sampling the different image bands to get the values for each pixel in each field. This isn't a very clean way to do this, but it works and doesn't take long to run in this case :)"
      ]
    },
    {
      "cell_type": "code",
      "metadata": {
        "id": "U2COu6wT53XR"
      },
      "source": [
        "# Not super efficient but  ¯\\_(ツ)_/¯\n",
        "import pandas as pd\n",
        "\n",
        "row_locs = []\n",
        "col_locs = []\n",
        "field_ids = []\n",
        "labels = []\n",
        "tiles = []\n",
        "for tile in range(4):\n",
        "  fids = f'/content/data/0{tile}/{tile}_field_id.tif'\n",
        "  labs = f'/content/data/0{tile}/{tile}_label.tif'\n",
        "  fid_arr = load_file(fids)\n",
        "  lab_arr = load_file(labs)\n",
        "  for row in range(len(fid_arr)):\n",
        "    for col in range(len(fid_arr[0])):\n",
        "      if fid_arr[row][col] != 0:\n",
        "        row_locs.append(row)\n",
        "        col_locs.append(col)\n",
        "        field_ids.append(fid_arr[row][col])\n",
        "        labels.append(lab_arr[row][col])\n",
        "        tiles.append(tile)\n",
        "\n",
        "df = pd.DataFrame({\n",
        "    'fid':field_ids,\n",
        "    'label':labels,\n",
        "    'row_loc': row_locs,\n",
        "    'col_loc':col_locs,\n",
        "    'tile':tiles\n",
        "})\n",
        "\n",
        "print(df.shape)\n",
        "print(df.groupby('fid').count().shape)\n",
        "df.head()"
      ],
      "execution_count": null,
      "outputs": []
    },
    {
      "cell_type": "code",
      "metadata": {
        "id": "1YKFWmC87nBC"
      },
      "source": [
        "# Sample the bands at different dates as columns in our new dataframe\n",
        "col_names = []\n",
        "col_values = []\n",
        "\n",
        "for tile in range(4): # 1) For each tile\n",
        "  print('Tile: ', tile)\n",
        "  for d in dates: # 2) For each date\n",
        "    print(str(d))\n",
        "    d = ''.join(str(d.date()).split('-')) # Nice date string\n",
        "    t = '0'+str(tile)\n",
        "    for b in bands: # 3) For each band\n",
        "      col_name = d+'_'+b\n",
        "      \n",
        "      if tile == 0:\n",
        "        # If the column doesn't exist, create it and populate with 0s\n",
        "        df[col_name] = 0\n",
        "\n",
        "      # Load im\n",
        "      im = load_file(f\"data/{t}/{d}/{t[1]}_{b}_{d}.tif\")\n",
        "      \n",
        "      # Going four levels deep. Each second on the outside is four weeks in this loop\n",
        "      # If we die here, there's no waking up.....\n",
        "      vals = []\n",
        "      for row, col in df.loc[df.tile == tile][['row_loc', 'col_loc']].values: # 4) For each location of a pixel in a field\n",
        "        vals.append(im[row][col])\n",
        "      df.loc[df.tile == tile, col_name] = vals\n",
        "df.head()\n"
      ],
      "execution_count": null,
      "outputs": []
    },
    {
      "cell_type": "code",
      "metadata": {
        "id": "WRQGkI-o_om4"
      },
      "source": [
        "df.to_csv('sampled_data.csv', index=False)"
      ],
      "execution_count": null,
      "outputs": []
    },
    {
      "cell_type": "code",
      "metadata": {
        "id": "-NODO7QTBQ0A"
      },
      "source": [
        "!cp 'sampled_data.csv' 'drive/My Drive/' # You can mount drive and save like this, or just download sampled_data.csv and use that later."
      ],
      "execution_count": null,
      "outputs": []
    },
    {
      "cell_type": "markdown",
      "metadata": {
        "id": "zf7NsiS6IjsI"
      },
      "source": [
        "# Trying a few simple models\n",
        "\n",
        "Now that we have our data in a nice tabular data format, we can try some simple models. I'll restart the runtime here and load in the data we saved earlier. If you have already done the first two steps, you can just upload sampled_data.csv and start from here."
      ]
    },
    {
      "cell_type": "code",
      "metadata": {
        "id": "TzMHrTnVjvfz"
      },
      "source": [
        "import pandas as pd\n",
        "from sklearn.ensemble import RandomForestClassifier\n",
        "from sklearn.metrics import log_loss"
      ],
      "execution_count": null,
      "outputs": []
    },
    {
      "cell_type": "code",
      "metadata": {
        "id": "AR33yXiFkKUN",
        "colab": {
          "base_uri": "https://localhost:8080/",
          "height": 265
        },
        "outputId": "d0f5b7c4-95a7-4fef-90c7-1834dd50281b"
      },
      "source": [
        "# Load the data\n",
        "df = pd.read_csv('sampled_data.csv')\n",
        "print(df.shape)\n",
        "df.head()"
      ],
      "execution_count": null,
      "outputs": [
        {
          "output_type": "stream",
          "text": [
            "(67557, 174)\n"
          ],
          "name": "stdout"
        },
        {
          "output_type": "execute_result",
          "data": {
            "text/html": [
              "<div>\n",
              "<style scoped>\n",
              "    .dataframe tbody tr th:only-of-type {\n",
              "        vertical-align: middle;\n",
              "    }\n",
              "\n",
              "    .dataframe tbody tr th {\n",
              "        vertical-align: top;\n",
              "    }\n",
              "\n",
              "    .dataframe thead th {\n",
              "        text-align: right;\n",
              "    }\n",
              "</style>\n",
              "<table border=\"1\" class=\"dataframe\">\n",
              "  <thead>\n",
              "    <tr style=\"text-align: right;\">\n",
              "      <th></th>\n",
              "      <th>fid</th>\n",
              "      <th>label</th>\n",
              "      <th>row_loc</th>\n",
              "      <th>col_loc</th>\n",
              "      <th>tile</th>\n",
              "      <th>20190606_B01</th>\n",
              "      <th>20190606_B02</th>\n",
              "      <th>20190606_B03</th>\n",
              "      <th>20190606_B04</th>\n",
              "      <th>20190606_B05</th>\n",
              "      <th>20190606_B06</th>\n",
              "      <th>20190606_B07</th>\n",
              "      <th>20190606_B08</th>\n",
              "      <th>20190606_B8A</th>\n",
              "      <th>20190606_B09</th>\n",
              "      <th>20190606_B11</th>\n",
              "      <th>20190606_B12</th>\n",
              "      <th>20190606_CLD</th>\n",
              "      <th>20190701_B01</th>\n",
              "      <th>20190701_B02</th>\n",
              "      <th>20190701_B03</th>\n",
              "      <th>20190701_B04</th>\n",
              "      <th>20190701_B05</th>\n",
              "      <th>20190701_B06</th>\n",
              "      <th>20190701_B07</th>\n",
              "      <th>20190701_B08</th>\n",
              "      <th>20190701_B8A</th>\n",
              "      <th>20190701_B09</th>\n",
              "      <th>20190701_B11</th>\n",
              "      <th>20190701_B12</th>\n",
              "      <th>20190701_CLD</th>\n",
              "      <th>20190706_B01</th>\n",
              "      <th>20190706_B02</th>\n",
              "      <th>20190706_B03</th>\n",
              "      <th>20190706_B04</th>\n",
              "      <th>20190706_B05</th>\n",
              "      <th>20190706_B06</th>\n",
              "      <th>20190706_B07</th>\n",
              "      <th>20190706_B08</th>\n",
              "      <th>20190706_B8A</th>\n",
              "      <th>...</th>\n",
              "      <th>20190919_CLD</th>\n",
              "      <th>20190924_B01</th>\n",
              "      <th>20190924_B02</th>\n",
              "      <th>20190924_B03</th>\n",
              "      <th>20190924_B04</th>\n",
              "      <th>20190924_B05</th>\n",
              "      <th>20190924_B06</th>\n",
              "      <th>20190924_B07</th>\n",
              "      <th>20190924_B08</th>\n",
              "      <th>20190924_B8A</th>\n",
              "      <th>20190924_B09</th>\n",
              "      <th>20190924_B11</th>\n",
              "      <th>20190924_B12</th>\n",
              "      <th>20190924_CLD</th>\n",
              "      <th>20191004_B01</th>\n",
              "      <th>20191004_B02</th>\n",
              "      <th>20191004_B03</th>\n",
              "      <th>20191004_B04</th>\n",
              "      <th>20191004_B05</th>\n",
              "      <th>20191004_B06</th>\n",
              "      <th>20191004_B07</th>\n",
              "      <th>20191004_B08</th>\n",
              "      <th>20191004_B8A</th>\n",
              "      <th>20191004_B09</th>\n",
              "      <th>20191004_B11</th>\n",
              "      <th>20191004_B12</th>\n",
              "      <th>20191004_CLD</th>\n",
              "      <th>20191103_B01</th>\n",
              "      <th>20191103_B02</th>\n",
              "      <th>20191103_B03</th>\n",
              "      <th>20191103_B04</th>\n",
              "      <th>20191103_B05</th>\n",
              "      <th>20191103_B06</th>\n",
              "      <th>20191103_B07</th>\n",
              "      <th>20191103_B08</th>\n",
              "      <th>20191103_B8A</th>\n",
              "      <th>20191103_B09</th>\n",
              "      <th>20191103_B11</th>\n",
              "      <th>20191103_B12</th>\n",
              "      <th>20191103_CLD</th>\n",
              "    </tr>\n",
              "  </thead>\n",
              "  <tbody>\n",
              "    <tr>\n",
              "      <th>0</th>\n",
              "      <td>2928</td>\n",
              "      <td>4</td>\n",
              "      <td>214</td>\n",
              "      <td>1278</td>\n",
              "      <td>0</td>\n",
              "      <td>0.1995</td>\n",
              "      <td>0.2024</td>\n",
              "      <td>0.1782</td>\n",
              "      <td>0.1898</td>\n",
              "      <td>0.2462</td>\n",
              "      <td>0.3577</td>\n",
              "      <td>0.4018</td>\n",
              "      <td>0.3846</td>\n",
              "      <td>0.4149</td>\n",
              "      <td>0.778</td>\n",
              "      <td>0.3034</td>\n",
              "      <td>0.2589</td>\n",
              "      <td>5.0</td>\n",
              "      <td>0.036</td>\n",
              "      <td>0.0409</td>\n",
              "      <td>0.0706</td>\n",
              "      <td>0.0552</td>\n",
              "      <td>0.1096</td>\n",
              "      <td>0.2826</td>\n",
              "      <td>0.3318</td>\n",
              "      <td>0.3099</td>\n",
              "      <td>0.3572</td>\n",
              "      <td>0.3578</td>\n",
              "      <td>0.2325</td>\n",
              "      <td>0.1307</td>\n",
              "      <td>0.0</td>\n",
              "      <td>0.0361</td>\n",
              "      <td>0.0446</td>\n",
              "      <td>0.0720</td>\n",
              "      <td>0.0588</td>\n",
              "      <td>0.1049</td>\n",
              "      <td>0.2644</td>\n",
              "      <td>0.3296</td>\n",
              "      <td>0.3253</td>\n",
              "      <td>0.3519</td>\n",
              "      <td>...</td>\n",
              "      <td>0.0</td>\n",
              "      <td>0.0419</td>\n",
              "      <td>0.0576</td>\n",
              "      <td>0.0913</td>\n",
              "      <td>0.0941</td>\n",
              "      <td>0.1455</td>\n",
              "      <td>0.2732</td>\n",
              "      <td>0.3229</td>\n",
              "      <td>0.2989</td>\n",
              "      <td>0.3538</td>\n",
              "      <td>0.3444</td>\n",
              "      <td>0.2957</td>\n",
              "      <td>0.1995</td>\n",
              "      <td>0.0</td>\n",
              "      <td>0.049</td>\n",
              "      <td>0.0586</td>\n",
              "      <td>0.0898</td>\n",
              "      <td>0.0711</td>\n",
              "      <td>0.1279</td>\n",
              "      <td>0.2889</td>\n",
              "      <td>0.3427</td>\n",
              "      <td>0.3218</td>\n",
              "      <td>0.3657</td>\n",
              "      <td>0.3573</td>\n",
              "      <td>0.2620</td>\n",
              "      <td>0.1538</td>\n",
              "      <td>0.0</td>\n",
              "      <td>0.0372</td>\n",
              "      <td>0.0536</td>\n",
              "      <td>0.0874</td>\n",
              "      <td>0.0669</td>\n",
              "      <td>0.1239</td>\n",
              "      <td>0.2660</td>\n",
              "      <td>0.3214</td>\n",
              "      <td>0.3204</td>\n",
              "      <td>0.3515</td>\n",
              "      <td>0.361</td>\n",
              "      <td>0.2362</td>\n",
              "      <td>0.1347</td>\n",
              "      <td>0.0</td>\n",
              "    </tr>\n",
              "    <tr>\n",
              "      <th>1</th>\n",
              "      <td>2928</td>\n",
              "      <td>4</td>\n",
              "      <td>214</td>\n",
              "      <td>1279</td>\n",
              "      <td>0</td>\n",
              "      <td>0.1995</td>\n",
              "      <td>0.1942</td>\n",
              "      <td>0.1848</td>\n",
              "      <td>0.1846</td>\n",
              "      <td>0.2462</td>\n",
              "      <td>0.3577</td>\n",
              "      <td>0.4018</td>\n",
              "      <td>0.3859</td>\n",
              "      <td>0.4149</td>\n",
              "      <td>0.778</td>\n",
              "      <td>0.3034</td>\n",
              "      <td>0.2589</td>\n",
              "      <td>5.0</td>\n",
              "      <td>0.036</td>\n",
              "      <td>0.0365</td>\n",
              "      <td>0.0682</td>\n",
              "      <td>0.0457</td>\n",
              "      <td>0.1096</td>\n",
              "      <td>0.2826</td>\n",
              "      <td>0.3318</td>\n",
              "      <td>0.3242</td>\n",
              "      <td>0.3572</td>\n",
              "      <td>0.3578</td>\n",
              "      <td>0.2325</td>\n",
              "      <td>0.1307</td>\n",
              "      <td>0.0</td>\n",
              "      <td>0.0361</td>\n",
              "      <td>0.0393</td>\n",
              "      <td>0.0575</td>\n",
              "      <td>0.0419</td>\n",
              "      <td>0.1049</td>\n",
              "      <td>0.2644</td>\n",
              "      <td>0.3296</td>\n",
              "      <td>0.3127</td>\n",
              "      <td>0.3519</td>\n",
              "      <td>...</td>\n",
              "      <td>0.0</td>\n",
              "      <td>0.0419</td>\n",
              "      <td>0.0479</td>\n",
              "      <td>0.0901</td>\n",
              "      <td>0.0784</td>\n",
              "      <td>0.1455</td>\n",
              "      <td>0.2732</td>\n",
              "      <td>0.3229</td>\n",
              "      <td>0.3131</td>\n",
              "      <td>0.3538</td>\n",
              "      <td>0.3444</td>\n",
              "      <td>0.2957</td>\n",
              "      <td>0.1995</td>\n",
              "      <td>0.0</td>\n",
              "      <td>0.049</td>\n",
              "      <td>0.0551</td>\n",
              "      <td>0.0854</td>\n",
              "      <td>0.0673</td>\n",
              "      <td>0.1279</td>\n",
              "      <td>0.2889</td>\n",
              "      <td>0.3427</td>\n",
              "      <td>0.3172</td>\n",
              "      <td>0.3657</td>\n",
              "      <td>0.3573</td>\n",
              "      <td>0.2620</td>\n",
              "      <td>0.1538</td>\n",
              "      <td>0.0</td>\n",
              "      <td>0.0372</td>\n",
              "      <td>0.0457</td>\n",
              "      <td>0.0705</td>\n",
              "      <td>0.0603</td>\n",
              "      <td>0.1239</td>\n",
              "      <td>0.2660</td>\n",
              "      <td>0.3214</td>\n",
              "      <td>0.3296</td>\n",
              "      <td>0.3515</td>\n",
              "      <td>0.361</td>\n",
              "      <td>0.2362</td>\n",
              "      <td>0.1347</td>\n",
              "      <td>0.0</td>\n",
              "    </tr>\n",
              "    <tr>\n",
              "      <th>2</th>\n",
              "      <td>2928</td>\n",
              "      <td>4</td>\n",
              "      <td>214</td>\n",
              "      <td>1280</td>\n",
              "      <td>0</td>\n",
              "      <td>0.1995</td>\n",
              "      <td>0.1868</td>\n",
              "      <td>0.1930</td>\n",
              "      <td>0.1860</td>\n",
              "      <td>0.2558</td>\n",
              "      <td>0.3590</td>\n",
              "      <td>0.3982</td>\n",
              "      <td>0.3861</td>\n",
              "      <td>0.4101</td>\n",
              "      <td>0.778</td>\n",
              "      <td>0.3041</td>\n",
              "      <td>0.2560</td>\n",
              "      <td>13.0</td>\n",
              "      <td>0.036</td>\n",
              "      <td>0.0368</td>\n",
              "      <td>0.0504</td>\n",
              "      <td>0.0458</td>\n",
              "      <td>0.1134</td>\n",
              "      <td>0.2615</td>\n",
              "      <td>0.3143</td>\n",
              "      <td>0.3272</td>\n",
              "      <td>0.3525</td>\n",
              "      <td>0.3578</td>\n",
              "      <td>0.2358</td>\n",
              "      <td>0.1311</td>\n",
              "      <td>0.0</td>\n",
              "      <td>0.0361</td>\n",
              "      <td>0.0524</td>\n",
              "      <td>0.0665</td>\n",
              "      <td>0.0637</td>\n",
              "      <td>0.1308</td>\n",
              "      <td>0.2669</td>\n",
              "      <td>0.3313</td>\n",
              "      <td>0.3185</td>\n",
              "      <td>0.3595</td>\n",
              "      <td>...</td>\n",
              "      <td>0.0</td>\n",
              "      <td>0.0419</td>\n",
              "      <td>0.0730</td>\n",
              "      <td>0.0937</td>\n",
              "      <td>0.1028</td>\n",
              "      <td>0.1490</td>\n",
              "      <td>0.2755</td>\n",
              "      <td>0.3264</td>\n",
              "      <td>0.3222</td>\n",
              "      <td>0.3491</td>\n",
              "      <td>0.3444</td>\n",
              "      <td>0.3132</td>\n",
              "      <td>0.2175</td>\n",
              "      <td>0.0</td>\n",
              "      <td>0.049</td>\n",
              "      <td>0.0605</td>\n",
              "      <td>0.0871</td>\n",
              "      <td>0.0802</td>\n",
              "      <td>0.1479</td>\n",
              "      <td>0.2784</td>\n",
              "      <td>0.3277</td>\n",
              "      <td>0.3220</td>\n",
              "      <td>0.3555</td>\n",
              "      <td>0.3573</td>\n",
              "      <td>0.2705</td>\n",
              "      <td>0.1670</td>\n",
              "      <td>0.0</td>\n",
              "      <td>0.0372</td>\n",
              "      <td>0.0565</td>\n",
              "      <td>0.0852</td>\n",
              "      <td>0.0631</td>\n",
              "      <td>0.1259</td>\n",
              "      <td>0.2579</td>\n",
              "      <td>0.3131</td>\n",
              "      <td>0.3459</td>\n",
              "      <td>0.3307</td>\n",
              "      <td>0.361</td>\n",
              "      <td>0.2304</td>\n",
              "      <td>0.1471</td>\n",
              "      <td>0.0</td>\n",
              "    </tr>\n",
              "    <tr>\n",
              "      <th>3</th>\n",
              "      <td>2928</td>\n",
              "      <td>4</td>\n",
              "      <td>214</td>\n",
              "      <td>1281</td>\n",
              "      <td>0</td>\n",
              "      <td>0.1995</td>\n",
              "      <td>0.1962</td>\n",
              "      <td>0.1978</td>\n",
              "      <td>0.1954</td>\n",
              "      <td>0.2558</td>\n",
              "      <td>0.3590</td>\n",
              "      <td>0.3982</td>\n",
              "      <td>0.3869</td>\n",
              "      <td>0.4101</td>\n",
              "      <td>0.778</td>\n",
              "      <td>0.3041</td>\n",
              "      <td>0.2560</td>\n",
              "      <td>13.0</td>\n",
              "      <td>0.036</td>\n",
              "      <td>0.0675</td>\n",
              "      <td>0.0881</td>\n",
              "      <td>0.0850</td>\n",
              "      <td>0.1134</td>\n",
              "      <td>0.2615</td>\n",
              "      <td>0.3143</td>\n",
              "      <td>0.2966</td>\n",
              "      <td>0.3525</td>\n",
              "      <td>0.3578</td>\n",
              "      <td>0.2358</td>\n",
              "      <td>0.1311</td>\n",
              "      <td>0.0</td>\n",
              "      <td>0.0361</td>\n",
              "      <td>0.0792</td>\n",
              "      <td>0.1056</td>\n",
              "      <td>0.1036</td>\n",
              "      <td>0.1308</td>\n",
              "      <td>0.2669</td>\n",
              "      <td>0.3313</td>\n",
              "      <td>0.3198</td>\n",
              "      <td>0.3595</td>\n",
              "      <td>...</td>\n",
              "      <td>0.0</td>\n",
              "      <td>0.0419</td>\n",
              "      <td>0.0937</td>\n",
              "      <td>0.1232</td>\n",
              "      <td>0.1358</td>\n",
              "      <td>0.1490</td>\n",
              "      <td>0.2755</td>\n",
              "      <td>0.3264</td>\n",
              "      <td>0.3106</td>\n",
              "      <td>0.3491</td>\n",
              "      <td>0.3444</td>\n",
              "      <td>0.3132</td>\n",
              "      <td>0.2175</td>\n",
              "      <td>0.0</td>\n",
              "      <td>0.049</td>\n",
              "      <td>0.0938</td>\n",
              "      <td>0.1118</td>\n",
              "      <td>0.1202</td>\n",
              "      <td>0.1479</td>\n",
              "      <td>0.2784</td>\n",
              "      <td>0.3277</td>\n",
              "      <td>0.2849</td>\n",
              "      <td>0.3555</td>\n",
              "      <td>0.3573</td>\n",
              "      <td>0.2705</td>\n",
              "      <td>0.1670</td>\n",
              "      <td>0.0</td>\n",
              "      <td>0.0372</td>\n",
              "      <td>0.1022</td>\n",
              "      <td>0.1338</td>\n",
              "      <td>0.1214</td>\n",
              "      <td>0.1259</td>\n",
              "      <td>0.2579</td>\n",
              "      <td>0.3131</td>\n",
              "      <td>0.2861</td>\n",
              "      <td>0.3307</td>\n",
              "      <td>0.361</td>\n",
              "      <td>0.2304</td>\n",
              "      <td>0.1471</td>\n",
              "      <td>0.0</td>\n",
              "    </tr>\n",
              "    <tr>\n",
              "      <th>4</th>\n",
              "      <td>2928</td>\n",
              "      <td>4</td>\n",
              "      <td>214</td>\n",
              "      <td>1282</td>\n",
              "      <td>0</td>\n",
              "      <td>0.1995</td>\n",
              "      <td>0.1976</td>\n",
              "      <td>0.1914</td>\n",
              "      <td>0.1956</td>\n",
              "      <td>0.2571</td>\n",
              "      <td>0.3662</td>\n",
              "      <td>0.4005</td>\n",
              "      <td>0.3796</td>\n",
              "      <td>0.4073</td>\n",
              "      <td>0.778</td>\n",
              "      <td>0.3086</td>\n",
              "      <td>0.2573</td>\n",
              "      <td>9.0</td>\n",
              "      <td>0.036</td>\n",
              "      <td>0.0891</td>\n",
              "      <td>0.1258</td>\n",
              "      <td>0.1208</td>\n",
              "      <td>0.1238</td>\n",
              "      <td>0.2837</td>\n",
              "      <td>0.3248</td>\n",
              "      <td>0.3074</td>\n",
              "      <td>0.3602</td>\n",
              "      <td>0.3578</td>\n",
              "      <td>0.2392</td>\n",
              "      <td>0.1517</td>\n",
              "      <td>0.0</td>\n",
              "      <td>0.0361</td>\n",
              "      <td>0.0673</td>\n",
              "      <td>0.1024</td>\n",
              "      <td>0.0872</td>\n",
              "      <td>0.1227</td>\n",
              "      <td>0.2783</td>\n",
              "      <td>0.3413</td>\n",
              "      <td>0.3400</td>\n",
              "      <td>0.3684</td>\n",
              "      <td>...</td>\n",
              "      <td>0.0</td>\n",
              "      <td>0.0419</td>\n",
              "      <td>0.0791</td>\n",
              "      <td>0.1192</td>\n",
              "      <td>0.1248</td>\n",
              "      <td>0.1694</td>\n",
              "      <td>0.2821</td>\n",
              "      <td>0.3247</td>\n",
              "      <td>0.3096</td>\n",
              "      <td>0.3440</td>\n",
              "      <td>0.3444</td>\n",
              "      <td>0.3087</td>\n",
              "      <td>0.2222</td>\n",
              "      <td>0.0</td>\n",
              "      <td>0.049</td>\n",
              "      <td>0.0994</td>\n",
              "      <td>0.1274</td>\n",
              "      <td>0.1090</td>\n",
              "      <td>0.1530</td>\n",
              "      <td>0.2940</td>\n",
              "      <td>0.3447</td>\n",
              "      <td>0.3229</td>\n",
              "      <td>0.3567</td>\n",
              "      <td>0.3573</td>\n",
              "      <td>0.2768</td>\n",
              "      <td>0.1726</td>\n",
              "      <td>0.0</td>\n",
              "      <td>0.0372</td>\n",
              "      <td>0.1164</td>\n",
              "      <td>0.1238</td>\n",
              "      <td>0.1278</td>\n",
              "      <td>0.1385</td>\n",
              "      <td>0.2726</td>\n",
              "      <td>0.3239</td>\n",
              "      <td>0.3286</td>\n",
              "      <td>0.3446</td>\n",
              "      <td>0.361</td>\n",
              "      <td>0.2323</td>\n",
              "      <td>0.1355</td>\n",
              "      <td>0.0</td>\n",
              "    </tr>\n",
              "  </tbody>\n",
              "</table>\n",
              "<p>5 rows × 174 columns</p>\n",
              "</div>"
            ],
            "text/plain": [
              "    fid  label  row_loc  ...  20191103_B11  20191103_B12  20191103_CLD\n",
              "0  2928      4      214  ...        0.2362        0.1347           0.0\n",
              "1  2928      4      214  ...        0.2362        0.1347           0.0\n",
              "2  2928      4      214  ...        0.2304        0.1471           0.0\n",
              "3  2928      4      214  ...        0.2304        0.1471           0.0\n",
              "4  2928      4      214  ...        0.2323        0.1355           0.0\n",
              "\n",
              "[5 rows x 174 columns]"
            ]
          },
          "metadata": {
            "tags": []
          },
          "execution_count": 2
        }
      ]
    },
    {
      "cell_type": "code",
      "metadata": {
        "id": "hFcYYXroI8EA",
        "colab": {
          "base_uri": "https://localhost:8080/",
          "height": 35
        },
        "outputId": "6497a409-ae23-4c72-f87f-a252037a52a0"
      },
      "source": [
        "# Split into train and test sets\n",
        "train = df.loc[df.label != 0]\n",
        "test =  df.loc[df.label == 0]\n",
        "train.shape, test.shape"
      ],
      "execution_count": null,
      "outputs": [
        {
          "output_type": "execute_result",
          "data": {
            "text/plain": [
              "((47791, 174), (19766, 174))"
            ]
          },
          "metadata": {
            "tags": []
          },
          "execution_count": 3
        }
      ]
    },
    {
      "cell_type": "code",
      "metadata": {
        "id": "28sCD8BflBCg"
      },
      "source": [
        "# Split train into train and val, so that we can score our models locally (test is the test set)\n",
        "\n",
        "# Splitting on field ID since we want to predict for unseen FIELDS\n",
        "val_field_ids = train.groupby('fid').mean().reset_index()['fid'].sample(frac=0.3).values\n",
        "tr = train.loc[~train.fid.isin(val_field_ids)].copy()\n",
        "val = train.loc[train.fid.isin(val_field_ids)].copy()\n",
        "\n",
        "# Split into X and Y for modelling\n",
        "X_train, y_train = tr[tr.columns[5:]], tr['label']\n",
        "X_val, y_val = val[val.columns[5:]], val['label']"
      ],
      "execution_count": null,
      "outputs": []
    },
    {
      "cell_type": "markdown",
      "metadata": {
        "id": "GsC30LDHkxjg"
      },
      "source": [
        "### We can predict on pixels and then combine, or group into fields and then predict. Let's try both and compare!"
      ]
    },
    {
      "cell_type": "code",
      "metadata": {
        "id": "fA_qja5Pkmjp",
        "colab": {
          "base_uri": "https://localhost:8080/",
          "height": 235
        },
        "outputId": "515122e8-481d-46c6-9743-1dae461a55b7"
      },
      "source": [
        "# Predicting on pixels\n",
        "\n",
        "# Fit model (takes a few minutes since we have plenty of rows)\n",
        "model = RandomForestClassifier(n_estimators=500)\n",
        "model.fit(X_train.fillna(0), y_train)\n",
        "\n",
        "# Get predicted probabilities\n",
        "preds = model.predict_proba(X_val.fillna(0))\n",
        "\n",
        "# Add to val dataframe as columns\n",
        "for i in range(7):\n",
        "  val[str(i+1)] = preds[:,i]\n",
        "\n",
        "# Get 'true' vals as columns in val\n",
        "for c in range(1, 8):\n",
        "  val['true'+str(c)] = (val['label'] == c).astype(int)\n",
        "\n",
        "pred_cols = [str(i) for i in range(1, 8)]\n",
        "true_cols = ['true'+str(i) for i in range(1, 8)]\n",
        "\n",
        "# Score\n",
        "print('Pixel score:', log_loss(val[true_cols], val[pred_cols])) # Note this isn't the score you'd get for a submission!!\n",
        "print('Field score:', log_loss(val.groupby('fid').mean()[true_cols], val.groupby('fid').mean()[pred_cols])) # This is what we'll compare to\n",
        "\n",
        "# Inspect visually\n",
        "val[['label']+true_cols+pred_cols].head()"
      ],
      "execution_count": null,
      "outputs": [
        {
          "output_type": "stream",
          "text": [
            "Pixel score: 1.256923197055142\n",
            "Field score: 1.2995584366836086\n"
          ],
          "name": "stdout"
        },
        {
          "output_type": "execute_result",
          "data": {
            "text/html": [
              "<div>\n",
              "<style scoped>\n",
              "    .dataframe tbody tr th:only-of-type {\n",
              "        vertical-align: middle;\n",
              "    }\n",
              "\n",
              "    .dataframe tbody tr th {\n",
              "        vertical-align: top;\n",
              "    }\n",
              "\n",
              "    .dataframe thead th {\n",
              "        text-align: right;\n",
              "    }\n",
              "</style>\n",
              "<table border=\"1\" class=\"dataframe\">\n",
              "  <thead>\n",
              "    <tr style=\"text-align: right;\">\n",
              "      <th></th>\n",
              "      <th>label</th>\n",
              "      <th>true1</th>\n",
              "      <th>true2</th>\n",
              "      <th>true3</th>\n",
              "      <th>true4</th>\n",
              "      <th>true5</th>\n",
              "      <th>true6</th>\n",
              "      <th>true7</th>\n",
              "      <th>1</th>\n",
              "      <th>2</th>\n",
              "      <th>3</th>\n",
              "      <th>4</th>\n",
              "      <th>5</th>\n",
              "      <th>6</th>\n",
              "      <th>7</th>\n",
              "    </tr>\n",
              "  </thead>\n",
              "  <tbody>\n",
              "    <tr>\n",
              "      <th>0</th>\n",
              "      <td>4</td>\n",
              "      <td>0</td>\n",
              "      <td>0</td>\n",
              "      <td>0</td>\n",
              "      <td>1</td>\n",
              "      <td>0</td>\n",
              "      <td>0</td>\n",
              "      <td>0</td>\n",
              "      <td>0.600</td>\n",
              "      <td>0.130</td>\n",
              "      <td>0.008</td>\n",
              "      <td>0.168</td>\n",
              "      <td>0.042</td>\n",
              "      <td>0.034</td>\n",
              "      <td>0.018</td>\n",
              "    </tr>\n",
              "    <tr>\n",
              "      <th>1</th>\n",
              "      <td>4</td>\n",
              "      <td>0</td>\n",
              "      <td>0</td>\n",
              "      <td>0</td>\n",
              "      <td>1</td>\n",
              "      <td>0</td>\n",
              "      <td>0</td>\n",
              "      <td>0</td>\n",
              "      <td>0.554</td>\n",
              "      <td>0.160</td>\n",
              "      <td>0.010</td>\n",
              "      <td>0.198</td>\n",
              "      <td>0.030</td>\n",
              "      <td>0.034</td>\n",
              "      <td>0.014</td>\n",
              "    </tr>\n",
              "    <tr>\n",
              "      <th>2</th>\n",
              "      <td>4</td>\n",
              "      <td>0</td>\n",
              "      <td>0</td>\n",
              "      <td>0</td>\n",
              "      <td>1</td>\n",
              "      <td>0</td>\n",
              "      <td>0</td>\n",
              "      <td>0</td>\n",
              "      <td>0.530</td>\n",
              "      <td>0.166</td>\n",
              "      <td>0.012</td>\n",
              "      <td>0.166</td>\n",
              "      <td>0.056</td>\n",
              "      <td>0.050</td>\n",
              "      <td>0.020</td>\n",
              "    </tr>\n",
              "    <tr>\n",
              "      <th>3</th>\n",
              "      <td>4</td>\n",
              "      <td>0</td>\n",
              "      <td>0</td>\n",
              "      <td>0</td>\n",
              "      <td>1</td>\n",
              "      <td>0</td>\n",
              "      <td>0</td>\n",
              "      <td>0</td>\n",
              "      <td>0.556</td>\n",
              "      <td>0.166</td>\n",
              "      <td>0.020</td>\n",
              "      <td>0.162</td>\n",
              "      <td>0.040</td>\n",
              "      <td>0.042</td>\n",
              "      <td>0.014</td>\n",
              "    </tr>\n",
              "    <tr>\n",
              "      <th>4</th>\n",
              "      <td>4</td>\n",
              "      <td>0</td>\n",
              "      <td>0</td>\n",
              "      <td>0</td>\n",
              "      <td>1</td>\n",
              "      <td>0</td>\n",
              "      <td>0</td>\n",
              "      <td>0</td>\n",
              "      <td>0.468</td>\n",
              "      <td>0.168</td>\n",
              "      <td>0.026</td>\n",
              "      <td>0.176</td>\n",
              "      <td>0.068</td>\n",
              "      <td>0.074</td>\n",
              "      <td>0.020</td>\n",
              "    </tr>\n",
              "  </tbody>\n",
              "</table>\n",
              "</div>"
            ],
            "text/plain": [
              "   label  true1  true2  true3  true4  ...      3      4      5      6      7\n",
              "0      4      0      0      0      1  ...  0.008  0.168  0.042  0.034  0.018\n",
              "1      4      0      0      0      1  ...  0.010  0.198  0.030  0.034  0.014\n",
              "2      4      0      0      0      1  ...  0.012  0.166  0.056  0.050  0.020\n",
              "3      4      0      0      0      1  ...  0.020  0.162  0.040  0.042  0.014\n",
              "4      4      0      0      0      1  ...  0.026  0.176  0.068  0.074  0.020\n",
              "\n",
              "[5 rows x 15 columns]"
            ]
          },
          "metadata": {
            "tags": []
          },
          "execution_count": 5
        }
      ]
    },
    {
      "cell_type": "code",
      "metadata": {
        "id": "FzjwQTEHoCeY",
        "colab": {
          "base_uri": "https://localhost:8080/",
          "height": 35
        },
        "outputId": "aaefeeab-b1c5-4a45-fa90-8e80bce6f400"
      },
      "source": [
        "# Predicting on fields (grouping first)\n",
        "\n",
        "# Group\n",
        "train_grouped = tr.groupby('fid').mean().reset_index()\n",
        "val_grouped = val.groupby('fid').mean().reset_index()\n",
        "X_train, y_train = train_grouped[train_grouped.columns[5:]], train_grouped['label']\n",
        "X_val, y_val = val_grouped[train_grouped.columns[5:]], val_grouped['label']\n",
        "\n",
        "# Fit model\n",
        "model = RandomForestClassifier(n_estimators=500)\n",
        "model.fit(X_train.fillna(0), y_train)\n",
        "\n",
        "# Get predicted probabilities\n",
        "preds = model.predict_proba(X_val.fillna(0))\n",
        "\n",
        "# Add to val_grouped dataframe as columns\n",
        "for i in range(7):\n",
        "  val_grouped[str(i+1)] = preds[:,i]\n",
        "\n",
        "# Get 'true' vals as columns in val\n",
        "for c in range(1, 8):\n",
        "  val_grouped['true'+str(c)] = (val_grouped['label'] == c).astype(int)\n",
        "\n",
        "pred_cols = [str(i) for i in range(1, 8)]\n",
        "true_cols = ['true'+str(i) for i in range(1, 8)]\n",
        "val_grouped[['label']+true_cols+pred_cols].head()\n",
        "\n",
        "# Already grouped, but just to double check:\n",
        "print('Field score:', log_loss(val_grouped.groupby('fid').mean()[true_cols], val_grouped.groupby('fid').mean()[pred_cols]))"
      ],
      "execution_count": null,
      "outputs": [
        {
          "output_type": "stream",
          "text": [
            "Field score: 1.2901252756706434\n"
          ],
          "name": "stdout"
        }
      ]
    },
    {
      "cell_type": "markdown",
      "metadata": {
        "id": "rlg_5vYRpsQT"
      },
      "source": [
        "### Predicting on fields is much faster, and a little more accurate. But feel free to experiment :)"
      ]
    },
    {
      "cell_type": "markdown",
      "metadata": {
        "id": "Clu80v0lp3OK"
      },
      "source": [
        "# Making a Submission\n",
        "\n",
        "Let's take our favourite model, make predictions and submit on Zindi!"
      ]
    },
    {
      "cell_type": "code",
      "metadata": {
        "id": "qka2RzXtp9W1",
        "colab": {
          "base_uri": "https://localhost:8080/",
          "height": 198
        },
        "outputId": "93ea3e54-af6d-4361-af12-0537908abb48"
      },
      "source": [
        "# Group test as we did for val\n",
        "test_grouped = test.groupby('fid').mean().reset_index()\n",
        "preds = model.predict_proba(test_grouped[train_grouped.columns[5:]])\n",
        "\n",
        "prob_df = pd.DataFrame({\n",
        "    'Field_ID':test_grouped['fid'].values\n",
        "})\n",
        "for c in range(1, 8):\n",
        "    prob_df['Crop_ID_'+str(c)] = preds[:,c-1]\n",
        "prob_df.head()"
      ],
      "execution_count": null,
      "outputs": [
        {
          "output_type": "execute_result",
          "data": {
            "text/html": [
              "<div>\n",
              "<style scoped>\n",
              "    .dataframe tbody tr th:only-of-type {\n",
              "        vertical-align: middle;\n",
              "    }\n",
              "\n",
              "    .dataframe tbody tr th {\n",
              "        vertical-align: top;\n",
              "    }\n",
              "\n",
              "    .dataframe thead th {\n",
              "        text-align: right;\n",
              "    }\n",
              "</style>\n",
              "<table border=\"1\" class=\"dataframe\">\n",
              "  <thead>\n",
              "    <tr style=\"text-align: right;\">\n",
              "      <th></th>\n",
              "      <th>Field_ID</th>\n",
              "      <th>Crop_ID_1</th>\n",
              "      <th>Crop_ID_2</th>\n",
              "      <th>Crop_ID_3</th>\n",
              "      <th>Crop_ID_4</th>\n",
              "      <th>Crop_ID_5</th>\n",
              "      <th>Crop_ID_6</th>\n",
              "      <th>Crop_ID_7</th>\n",
              "    </tr>\n",
              "  </thead>\n",
              "  <tbody>\n",
              "    <tr>\n",
              "      <th>0</th>\n",
              "      <td>3</td>\n",
              "      <td>0.148</td>\n",
              "      <td>0.558</td>\n",
              "      <td>0.054</td>\n",
              "      <td>0.100</td>\n",
              "      <td>0.024</td>\n",
              "      <td>0.014</td>\n",
              "      <td>0.102</td>\n",
              "    </tr>\n",
              "    <tr>\n",
              "      <th>1</th>\n",
              "      <td>6</td>\n",
              "      <td>0.198</td>\n",
              "      <td>0.644</td>\n",
              "      <td>0.024</td>\n",
              "      <td>0.054</td>\n",
              "      <td>0.028</td>\n",
              "      <td>0.032</td>\n",
              "      <td>0.020</td>\n",
              "    </tr>\n",
              "    <tr>\n",
              "      <th>2</th>\n",
              "      <td>11</td>\n",
              "      <td>0.184</td>\n",
              "      <td>0.430</td>\n",
              "      <td>0.032</td>\n",
              "      <td>0.248</td>\n",
              "      <td>0.044</td>\n",
              "      <td>0.020</td>\n",
              "      <td>0.042</td>\n",
              "    </tr>\n",
              "    <tr>\n",
              "      <th>3</th>\n",
              "      <td>13</td>\n",
              "      <td>0.244</td>\n",
              "      <td>0.484</td>\n",
              "      <td>0.072</td>\n",
              "      <td>0.098</td>\n",
              "      <td>0.052</td>\n",
              "      <td>0.022</td>\n",
              "      <td>0.028</td>\n",
              "    </tr>\n",
              "    <tr>\n",
              "      <th>4</th>\n",
              "      <td>14</td>\n",
              "      <td>0.176</td>\n",
              "      <td>0.482</td>\n",
              "      <td>0.072</td>\n",
              "      <td>0.106</td>\n",
              "      <td>0.078</td>\n",
              "      <td>0.020</td>\n",
              "      <td>0.066</td>\n",
              "    </tr>\n",
              "  </tbody>\n",
              "</table>\n",
              "</div>"
            ],
            "text/plain": [
              "   Field_ID  Crop_ID_1  Crop_ID_2  ...  Crop_ID_5  Crop_ID_6  Crop_ID_7\n",
              "0         3      0.148      0.558  ...      0.024      0.014      0.102\n",
              "1         6      0.198      0.644  ...      0.028      0.032      0.020\n",
              "2        11      0.184      0.430  ...      0.044      0.020      0.042\n",
              "3        13      0.244      0.484  ...      0.052      0.022      0.028\n",
              "4        14      0.176      0.482  ...      0.078      0.020      0.066\n",
              "\n",
              "[5 rows x 8 columns]"
            ]
          },
          "metadata": {
            "tags": []
          },
          "execution_count": 7
        }
      ]
    },
    {
      "cell_type": "code",
      "metadata": {
        "id": "-xHEj0EmLvNy",
        "colab": {
          "base_uri": "https://localhost:8080/",
          "height": 198
        },
        "outputId": "2cb7798e-9f5e-41a6-bb9d-8569a53a6f31"
      },
      "source": [
        "# Check the sample submission and compare\n",
        "ss = pd.read_csv('SampleSub.csv')\n",
        "ss.head()"
      ],
      "execution_count": null,
      "outputs": [
        {
          "output_type": "execute_result",
          "data": {
            "text/html": [
              "<div>\n",
              "<style scoped>\n",
              "    .dataframe tbody tr th:only-of-type {\n",
              "        vertical-align: middle;\n",
              "    }\n",
              "\n",
              "    .dataframe tbody tr th {\n",
              "        vertical-align: top;\n",
              "    }\n",
              "\n",
              "    .dataframe thead th {\n",
              "        text-align: right;\n",
              "    }\n",
              "</style>\n",
              "<table border=\"1\" class=\"dataframe\">\n",
              "  <thead>\n",
              "    <tr style=\"text-align: right;\">\n",
              "      <th></th>\n",
              "      <th>Field_ID</th>\n",
              "      <th>Crop_ID_1</th>\n",
              "      <th>Crop_ID_2</th>\n",
              "      <th>Crop_ID_3</th>\n",
              "      <th>Crop_ID_4</th>\n",
              "      <th>Crop_ID_5</th>\n",
              "      <th>Crop_ID_6</th>\n",
              "      <th>Crop_ID_7</th>\n",
              "    </tr>\n",
              "  </thead>\n",
              "  <tbody>\n",
              "    <tr>\n",
              "      <th>0</th>\n",
              "      <td>3</td>\n",
              "      <td>0</td>\n",
              "      <td>0</td>\n",
              "      <td>0</td>\n",
              "      <td>0</td>\n",
              "      <td>0</td>\n",
              "      <td>0</td>\n",
              "      <td>0</td>\n",
              "    </tr>\n",
              "    <tr>\n",
              "      <th>1</th>\n",
              "      <td>6</td>\n",
              "      <td>0</td>\n",
              "      <td>0</td>\n",
              "      <td>0</td>\n",
              "      <td>0</td>\n",
              "      <td>0</td>\n",
              "      <td>0</td>\n",
              "      <td>0</td>\n",
              "    </tr>\n",
              "    <tr>\n",
              "      <th>2</th>\n",
              "      <td>11</td>\n",
              "      <td>0</td>\n",
              "      <td>0</td>\n",
              "      <td>0</td>\n",
              "      <td>0</td>\n",
              "      <td>0</td>\n",
              "      <td>0</td>\n",
              "      <td>0</td>\n",
              "    </tr>\n",
              "    <tr>\n",
              "      <th>3</th>\n",
              "      <td>13</td>\n",
              "      <td>0</td>\n",
              "      <td>0</td>\n",
              "      <td>0</td>\n",
              "      <td>0</td>\n",
              "      <td>0</td>\n",
              "      <td>0</td>\n",
              "      <td>0</td>\n",
              "    </tr>\n",
              "    <tr>\n",
              "      <th>4</th>\n",
              "      <td>14</td>\n",
              "      <td>0</td>\n",
              "      <td>0</td>\n",
              "      <td>0</td>\n",
              "      <td>0</td>\n",
              "      <td>0</td>\n",
              "      <td>0</td>\n",
              "      <td>0</td>\n",
              "    </tr>\n",
              "  </tbody>\n",
              "</table>\n",
              "</div>"
            ],
            "text/plain": [
              "   Field_ID  Crop_ID_1  Crop_ID_2  ...  Crop_ID_5  Crop_ID_6  Crop_ID_7\n",
              "0         3          0          0  ...          0          0          0\n",
              "1         6          0          0  ...          0          0          0\n",
              "2        11          0          0  ...          0          0          0\n",
              "3        13          0          0  ...          0          0          0\n",
              "4        14          0          0  ...          0          0          0\n",
              "\n",
              "[5 rows x 8 columns]"
            ]
          },
          "metadata": {
            "tags": []
          },
          "execution_count": 8
        }
      ]
    },
    {
      "cell_type": "code",
      "metadata": {
        "id": "nLs8P_vHL2mC",
        "colab": {
          "base_uri": "https://localhost:8080/",
          "height": 35
        },
        "outputId": "7bf0070c-38c1-40be-c551-e99978dd0056"
      },
      "source": [
        "# Merge the two, to get all the required field IDs\n",
        "ss = pd.merge(ss['Field_ID'], prob_df, how='left', on='Field_ID')\n",
        "print(ss.isna().sum()['Crop_ID_1']) # Missing fields\n",
        "# Fill in a low but non-zero val for the missing rows:\n",
        "ss = ss.fillna(1/7) # There are 34 missing fields\n",
        "ss.to_csv('starter_nb_submission.csv', index=False)"
      ],
      "execution_count": null,
      "outputs": [
        {
          "output_type": "stream",
          "text": [
            "34\n"
          ],
          "name": "stdout"
        }
      ]
    },
    {
      "cell_type": "code",
      "metadata": {
        "id": "HRbXelSuriw_"
      },
      "source": [
        ""
      ],
      "execution_count": null,
      "outputs": []
    },
    {
      "cell_type": "markdown",
      "metadata": {
        "id": "B8k5U_xguow6"
      },
      "source": [
        "# Tips coming soon!"
      ]
    },
    {
      "cell_type": "code",
      "metadata": {
        "id": "6Ghm9EqnurYU"
      },
      "source": [
        ""
      ],
      "execution_count": null,
      "outputs": []
    }
  ]
}