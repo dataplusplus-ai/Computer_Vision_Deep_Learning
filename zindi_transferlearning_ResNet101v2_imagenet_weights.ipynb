{
  "nbformat": 4,
  "nbformat_minor": 0,
  "metadata": {
    "colab": {
      "name": "zindi_transferlearning_ResNet101v2_imagenet weights.ipynb",
      "provenance": [],
      "collapsed_sections": [],
      "authorship_tag": "ABX9TyNl7EXDR90c+MCKDY2M++0W",
      "include_colab_link": true
    },
    "kernelspec": {
      "name": "python3",
      "display_name": "Python 3"
    },
    "accelerator": "GPU"
  },
  "cells": [
    {
      "cell_type": "markdown",
      "metadata": {
        "id": "view-in-github",
        "colab_type": "text"
      },
      "source": [
        "<a href=\"https://colab.research.google.com/github/dataplusplus-ai/Computer_Vision_Deep_Learning/blob/main/zindi_transferlearning_ResNet101v2_imagenet_weights.ipynb\" target=\"_parent\"><img src=\"https://colab.research.google.com/assets/colab-badge.svg\" alt=\"Open In Colab\"/></a>"
      ]
    },
    {
      "cell_type": "code",
      "metadata": {
        "id": "kSnwEIx4Yla3"
      },
      "source": [
        "#resnet with transfer learning"
      ],
      "execution_count": null,
      "outputs": []
    },
    {
      "cell_type": "code",
      "metadata": {
        "id": "VUWOzc-hYqwV",
        "colab": {
          "base_uri": "https://localhost:8080/",
          "height": 122
        },
        "outputId": "f1057dda-0808-4496-b70c-22f052ec737d"
      },
      "source": [
        "# mount gdrive and unzip data\n",
        "from google.colab import drive\n",
        "drive.mount('/content/gdrive')\n",
        "!unzip -q \"/content/gdrive/My Drive/zindi_train.zip\"\n",
        "!unzip -q \"/content/gdrive/My Drive/zindi_test.zip\"\n",
        "!unzip -q \"/content/gdrive/My Drive/zindi_validation.zip\""
      ],
      "execution_count": null,
      "outputs": [
        {
          "output_type": "stream",
          "text": [
            "Go to this URL in a browser: https://accounts.google.com/o/oauth2/auth?client_id=947318989803-6bn6qk8qdgf4n4g3pfee6491hc0brc4i.apps.googleusercontent.com&redirect_uri=urn%3aietf%3awg%3aoauth%3a2.0%3aoob&response_type=code&scope=email%20https%3a%2f%2fwww.googleapis.com%2fauth%2fdocs.test%20https%3a%2f%2fwww.googleapis.com%2fauth%2fdrive%20https%3a%2f%2fwww.googleapis.com%2fauth%2fdrive.photos.readonly%20https%3a%2f%2fwww.googleapis.com%2fauth%2fpeopleapi.readonly\n",
            "\n",
            "Enter your authorization code:\n",
            "··········\n",
            "Mounted at /content/gdrive\n"
          ],
          "name": "stdout"
        }
      ]
    },
    {
      "cell_type": "code",
      "metadata": {
        "id": "nhLvj496YrwL"
      },
      "source": [
        ""
      ],
      "execution_count": null,
      "outputs": []
    },
    {
      "cell_type": "code",
      "metadata": {
        "id": "kRZI-3zimhkx",
        "colab": {
          "base_uri": "https://localhost:8080/",
          "height": 34
        },
        "outputId": "c4cb5a8e-4516-4fe0-db72-17bbeb8b59b0"
      },
      "source": [
        "%tensorflow_version 1.x\n",
        "\n",
        "import numpy as np\n",
        "import pandas as pd\n",
        "import cv2\n",
        "import json\n",
        "\n",
        "from functools import partial\n",
        "from pathlib import Path \n",
        "from tqdm import tqdm\n",
        "\n",
        "from google.colab.patches import cv2_imshow\n",
        "\n",
        "from sklearn.model_selection import train_test_split\n",
        "from sklearn.preprocessing import LabelEncoder, OneHotEncoder\n",
        "\n",
        "from __future__ import print_function\n",
        "import keras\n",
        "from keras import models\n",
        "from keras import layers\n",
        "from keras.layers import Dense, Conv2D, BatchNormalization, Activation\n",
        "from keras.layers import MaxPool2D , Flatten\n",
        "from keras.layers import AveragePooling2D, Input, Flatten\n",
        "from keras.optimizers import Adam\n",
        "from keras.callbacks import ModelCheckpoint, LearningRateScheduler\n",
        "from keras.callbacks import ReduceLROnPlateau, CSVLogger, EarlyStopping\n",
        "from keras.preprocessing.image import ImageDataGenerator\n",
        "from keras.regularizers import l2\n",
        "from keras import backend as K\n",
        "from keras.models import Model\n",
        "\n",
        "import os\n",
        "from keras.layers.core import Dropout\n",
        "from keras.layers.core import Flatten\n",
        "from keras.layers.core import Dense\n",
        "from keras.layers import Input\n",
        "from keras.models import Model\n",
        "from keras.models import Sequential\n",
        "from keras.optimizers import SGD\n",
        "from keras.utils import plot_model"
      ],
      "execution_count": null,
      "outputs": [
        {
          "output_type": "stream",
          "text": [
            "Using TensorFlow backend.\n"
          ],
          "name": "stderr"
        }
      ]
    },
    {
      "cell_type": "code",
      "metadata": {
        "id": "FmYrv8Y_ZMeK"
      },
      "source": [
        "from PIL import Image\n",
        "import os"
      ],
      "execution_count": null,
      "outputs": []
    },
    {
      "cell_type": "code",
      "metadata": {
        "id": "V8RWh6hhZWNe"
      },
      "source": [
        "def convert_jpg(old_dir,new_dir):\n",
        "  for filename in os.listdir(old_dir):\n",
        "    if filename.lower().endswith(\".jfif\") or filename.lower().endswith(\".jpg\") or filename.lower().endswith(\".png\") or filename.lower().endswith(\".jpeg\"):\n",
        "        im=Image.open(old_dir+filename)\n",
        "        name=filename.split('.')[0]+'.jpg'\n",
        "        im.save(new_dir+name)"
      ],
      "execution_count": null,
      "outputs": []
    },
    {
      "cell_type": "code",
      "metadata": {
        "id": "B0nmFPmJZX9M"
      },
      "source": [
        "dir1='/content/train/healthy_wheat/'\n",
        "dir2='/content/trainjpg/healthy_wheat/'\n",
        "convert_jpg(dir1,dir2)"
      ],
      "execution_count": null,
      "outputs": []
    },
    {
      "cell_type": "code",
      "metadata": {
        "id": "fxrkHeajZvn4"
      },
      "source": [
        "dir1='/content/train/leaf_rust/'\n",
        "dir2='/content/trainjpg/leaf_rust/'\n",
        "convert_jpg(dir1,dir2)"
      ],
      "execution_count": null,
      "outputs": []
    },
    {
      "cell_type": "code",
      "metadata": {
        "id": "RLMAh9UTaYPp"
      },
      "source": [
        "dir1='/content/train/stem_rust/'\n",
        "dir2='/content/trainjpg/stem_rust/'\n",
        "convert_jpg(dir1,dir2)"
      ],
      "execution_count": null,
      "outputs": []
    },
    {
      "cell_type": "code",
      "metadata": {
        "id": "XMqj_QpJacrX"
      },
      "source": [
        "\n",
        "#test images are converted to jpgs\n",
        "dir1='/content/test/'\n",
        "dir2='/content/testjpg/'\n",
        "convert_jpg(dir1,dir2)"
      ],
      "execution_count": null,
      "outputs": []
    },
    {
      "cell_type": "code",
      "metadata": {
        "id": "pgKl8rsudkv5"
      },
      "source": [
        "#convert images in validation set to jpegs\n",
        "dir1='/content/validation/healthy_wheat_val/'\n",
        "dir2='/content/validationjpg/healthy_wheat/'\n",
        "convert_jpg(dir1,dir2)"
      ],
      "execution_count": null,
      "outputs": []
    },
    {
      "cell_type": "code",
      "metadata": {
        "id": "C4GgbeJwdk0A"
      },
      "source": [
        "dir1='/content/validation/leaf_rust_val/'\n",
        "dir2='/content/validationjpg/leaf_rust/'\n",
        "convert_jpg(dir1,dir2)"
      ],
      "execution_count": null,
      "outputs": []
    },
    {
      "cell_type": "code",
      "metadata": {
        "id": "cr9rVUngdlIx"
      },
      "source": [
        "dir1='/content/validation/stem_rust_val/'\n",
        "dir2='/content/validationjpg/stem_rust/'\n",
        "convert_jpg(dir1,dir2)"
      ],
      "execution_count": null,
      "outputs": []
    },
    {
      "cell_type": "code",
      "metadata": {
        "id": "mrkx4NBwcTlZ",
        "colab": {
          "base_uri": "https://localhost:8080/",
          "height": 68
        },
        "outputId": "84691970-b785-4bbe-d131-9dd9b8b7f615"
      },
      "source": [
        "print('no of test images is {}'.format(len(os.listdir('/content/testjpg'))))\n",
        "print('no of train images is {}+{}+{}'.format(len(os.listdir('/content/trainjpg/healthy_wheat')),\n",
        "                                               len(os.listdir('/content/trainjpg/stem_rust')),\n",
        "                                              len(os.listdir('/content/trainjpg/leaf_rust'))))\n",
        "print('no of validation images is {}+{}+{}'.format(len(os.listdir('/content/validationjpg/healthy_wheat')),\n",
        "                                               len(os.listdir('/content/validationjpg/stem_rust')),\n",
        "                                              len(os.listdir('/content/validationjpg/leaf_rust'))))"
      ],
      "execution_count": null,
      "outputs": [
        {
          "output_type": "stream",
          "text": [
            "no of test images is 610\n",
            "no of train images is 130+364+345\n",
            "no of validation images is 12+12+12\n"
          ],
          "name": "stdout"
        }
      ]
    },
    {
      "cell_type": "code",
      "metadata": {
        "id": "uD0jVv2TWXME"
      },
      "source": [
        "def get_random_eraser(p=0.5, s_l=0.02, s_h=0.4, r_1=0.3, r_2=1/0.3, v_l=0, v_h=255, pixel_level=False):\n",
        "\n",
        "  \"\"\"\n",
        "  p : the probability that random erasing is performed\n",
        "  s_l, s_h : minimum / maximum proportion of erased area against input image\n",
        "  r_1, r_2 : minimum / maximum aspect ratio of erased area\n",
        "  v_l, v_h : minimum / maximum value for erased area\n",
        "  pixel_level : pixel-level randomization for erased area\n",
        "  \"\"\"\n",
        "\n",
        "  def eraser(input_img):\n",
        "    img_h, img_w, img_c = input_img.shape\n",
        "    p_1 = np.random.rand()\n",
        "\n",
        "    if p_1 > p:\n",
        "        return input_img\n",
        "\n",
        "    while True:\n",
        "        s = np.random.uniform(s_l, s_h) * img_h * img_w\n",
        "        r = np.random.uniform(r_1, r_2)\n",
        "        w = int(np.sqrt(s / r))\n",
        "        h = int(np.sqrt(s * r))\n",
        "        left = np.random.randint(0, img_w)\n",
        "        top = np.random.randint(0, img_h)\n",
        "\n",
        "        if left + w <= img_w and top + h <= img_h:\n",
        "            break\n",
        "\n",
        "    if pixel_level:\n",
        "        c = np.random.uniform(v_l, v_h, (h, w, img_c))\n",
        "    else:\n",
        "        c = np.random.uniform(v_l, v_h)\n",
        "\n",
        "    input_img[top:top + h, left:left + w, :] = c\n",
        "\n",
        "    return input_img\n",
        "\n",
        "  return eraser"
      ],
      "execution_count": null,
      "outputs": []
    },
    {
      "cell_type": "code",
      "metadata": {
        "id": "vrzcm4onOtjR"
      },
      "source": [
        "from imgaug import augmenters as iaa\n",
        "\n",
        "aug1 = iaa.CoarseDropout(p=0.10, size_percent=0.05)\n",
        "\n",
        "def additional_augmenation(image):\n",
        "    image = aug1.augment_image(image)\n",
        "\n",
        "    return image"
      ],
      "execution_count": null,
      "outputs": []
    },
    {
      "cell_type": "code",
      "metadata": {
        "id": "WW4Q3XQ8WZuM"
      },
      "source": [
        "img_width, img_height = 224,224\n",
        "batch_size=32\n",
        "train_datagen = ImageDataGenerator(\n",
        "        # set input mean to 0 over the dataset\n",
        "        \n",
        "        # apply ZCA whitening\n",
        "        zca_whitening=False,\n",
        "        # epsilon for ZCA whitening\n",
        "        zca_epsilon=1e-06,\n",
        "        # randomly rotate images in the range (deg 0 to 180)\n",
        "        rotation_range=2,\n",
        "        # randomly shift images horizontally\n",
        "        width_shift_range=0.08,\n",
        "        # randomly shift images vertically\n",
        "        height_shift_range=0.05,\n",
        "        # set range for random shear\n",
        "        shear_range=0.07,\n",
        "        # set range for random zoom\n",
        "        zoom_range=0.05,\n",
        "        # set range for random channel shifts\n",
        "        channel_shift_range=0.07,\n",
        "        # set mode for filling points outside the input boundaries\n",
        "        fill_mode='nearest',\n",
        "        # value used for fill_mode = \"constant\"\n",
        "        cval=0.1,\n",
        "        # randomly flip images\n",
        "        horizontal_flip=True,\n",
        "        # randomly flip images\n",
        "        vertical_flip=False,\n",
        "        rescale=1. / 255,\n",
        "        # set rescaling factor (applied before any other transformation)\n",
        "        # set function that will be applied on each input\n",
        "        #Cutout Implementation\n",
        "        preprocessing_function=get_random_eraser(p=0.08,v_l=0, v_h=0.3, s_l=0.008, s_h=0.05, pixel_level=False),\n",
        "        #preprocessing_function=additional_augmenation, \n",
        "        # image data format, either \"channels_first\" or \"channels_last\"\n",
        "        data_format=None,\n",
        "        # fraction of images reserved for validation (strictly between 0 and 1)\n",
        "        validation_split=0.0)"
      ],
      "execution_count": null,
      "outputs": []
    },
    {
      "cell_type": "code",
      "metadata": {
        "id": "w3eSz-ZGey0F",
        "colab": {
          "base_uri": "https://localhost:8080/",
          "height": 34
        },
        "outputId": "e4367a3b-40a2-4dbe-ea5f-1a11de7418a8"
      },
      "source": [
        "#behaves weird, create a folder in content, move trainjpg there. Then create trainjpg here in content adn move from there\n",
        "train_generator = train_datagen.flow_from_directory(\n",
        "    directory=r\"/content/trainjpg/tr/\",\n",
        "    target_size=(224,224),\n",
        "    color_mode=\"rgb\",\n",
        "    batch_size=32,\n",
        "    class_mode=\"categorical\",\n",
        "    shuffle=True,\n",
        "    seed=42\n",
        ")"
      ],
      "execution_count": null,
      "outputs": [
        {
          "output_type": "stream",
          "text": [
            "Found 839 images belonging to 3 classes.\n"
          ],
          "name": "stdout"
        }
      ]
    },
    {
      "cell_type": "code",
      "metadata": {
        "id": "WH4d2G4FfKVl",
        "colab": {
          "base_uri": "https://localhost:8080/",
          "height": 34
        },
        "outputId": "159dcf15-6bf6-421c-e405-7e13a94fab47"
      },
      "source": [
        "#finall y working\n",
        "validation_datagen = ImageDataGenerator(rescale=1. / 255)\n",
        "validation_generator = validation_datagen.flow_from_directory(\n",
        "    directory=r\"/content/val/validationjpg/\",\n",
        "    target_size=(224,224),\n",
        "    batch_size=batch_size,\n",
        "    shuffle=True,\n",
        "    seed=42,\n",
        "    class_mode='categorical')"
      ],
      "execution_count": null,
      "outputs": [
        {
          "output_type": "stream",
          "text": [
            "Found 36 images belonging to 3 classes.\n"
          ],
          "name": "stdout"
        }
      ]
    },
    {
      "cell_type": "code",
      "metadata": {
        "id": "ZjFJCMkaY0sH",
        "colab": {
          "base_uri": "https://localhost:8080/",
          "height": 34
        },
        "outputId": "f1e1bc69-d17e-44dc-cda3-a7099fb5db11"
      },
      "source": [
        "in_shape=train_generator.__getitem__(16)[0][1].shape\n",
        "in_shape"
      ],
      "execution_count": null,
      "outputs": [
        {
          "output_type": "execute_result",
          "data": {
            "text/plain": [
              "(224, 224, 3)"
            ]
          },
          "metadata": {
            "tags": []
          },
          "execution_count": 31
        }
      ]
    },
    {
      "cell_type": "code",
      "metadata": {
        "id": "0kU1jhvtfchl",
        "colab": {
          "base_uri": "https://localhost:8080/",
          "height": 34
        },
        "outputId": "850c1865-7a0a-4d84-94fe-200fcad31bb3"
      },
      "source": [
        "test_datagen = ImageDataGenerator(rescale=1. / 255)\n",
        "test_generator = test_datagen.flow_from_directory(\n",
        "    directory=r\"/content/pred/\",\n",
        "    target_size=(224,224),\n",
        "    batch_size=1,\n",
        "    class_mode=None,\n",
        "    shuffle=False)"
      ],
      "execution_count": null,
      "outputs": [
        {
          "output_type": "stream",
          "text": [
            "Found 610 images belonging to 1 classes.\n"
          ],
          "name": "stdout"
        }
      ]
    },
    {
      "cell_type": "code",
      "metadata": {
        "id": "WAEKdPy-Gq8j"
      },
      "source": [
        "def lr_schedule(epoch):\n",
        "\n",
        "    lr = 1e-3\n",
        "    if epoch > 90:\n",
        "        lr *= 0.5e-3\n",
        "    elif epoch > 80:\n",
        "        lr *= 1e-3\n",
        "    elif epoch > 60:\n",
        "        lr *= 1e-2\n",
        "    elif epoch > 40:\n",
        "        lr *= 1e-1\n",
        "\n",
        "    print('Learning Rate: ', lr)\n",
        "    return lr"
      ],
      "execution_count": null,
      "outputs": []
    },
    {
      "cell_type": "code",
      "metadata": {
        "id": "HZJn88sZb2Vw"
      },
      "source": [
        "\n",
        "from keras.callbacks import Callback\n",
        "from keras import backend as K\n",
        "import numpy as np\n",
        "\n",
        "# Keras-Contib Implementation\n",
        "class CyclicLR(Callback):\n",
        "\n",
        "    def __init__(\n",
        "            self,\n",
        "            base_lr=0.001,\n",
        "            max_lr=0.004,\n",
        "            step_size=2000.,\n",
        "            mode='triangular',\n",
        "            gamma=1.,\n",
        "            scale_fn=None,\n",
        "            scale_mode='cycle'):\n",
        "        super(CyclicLR, self).__init__()\n",
        "\n",
        "        if mode not in ['triangular', 'triangular2',\n",
        "                        'exp_range']:\n",
        "            raise KeyError(\"mode must be one of 'triangular', \"\n",
        "                           \"'triangular2', or 'exp_range'\")\n",
        "        self.base_lr = base_lr\n",
        "        self.max_lr = max_lr\n",
        "        self.step_size = step_size\n",
        "        self.mode = mode\n",
        "        self.gamma = gamma\n",
        "        if scale_fn is None:\n",
        "            if self.mode == 'triangular':\n",
        "                self.scale_fn = lambda x: 1.\n",
        "                self.scale_mode = 'cycle'\n",
        "            elif self.mode == 'triangular2':\n",
        "                self.scale_fn = lambda x: 1 / (2.**(x - 1))\n",
        "                self.scale_mode = 'cycle'\n",
        "            elif self.mode == 'exp_range':\n",
        "                self.scale_fn = lambda x: gamma ** x\n",
        "                self.scale_mode = 'iterations'\n",
        "        else:\n",
        "            self.scale_fn = scale_fn\n",
        "            self.scale_mode = scale_mode\n",
        "        self.clr_iterations = 0.\n",
        "        self.trn_iterations = 0.\n",
        "        self.history = {}\n",
        "\n",
        "        self._reset()\n",
        "\n",
        "    def _reset(self, new_base_lr=None, new_max_lr=None,\n",
        "               new_step_size=None):\n",
        "        \"\"\"Resets cycle iterations.\n",
        "        Optional boundary/step size adjustment.\n",
        "        \"\"\"\n",
        "        if new_base_lr is not None:\n",
        "            self.base_lr = new_base_lr\n",
        "        if new_max_lr is not None:\n",
        "            self.max_lr = new_max_lr\n",
        "        if new_step_size is not None:\n",
        "            self.step_size = new_step_size\n",
        "        self.clr_iterations = 0.\n",
        "\n",
        "    def clr(self):\n",
        "        cycle = np.floor(1 + self.clr_iterations / (2 * self.step_size))\n",
        "        x = np.abs(self.clr_iterations / self.step_size - 2 * cycle + 1)\n",
        "        if self.scale_mode == 'cycle':\n",
        "            return self.base_lr + (self.max_lr - self.base_lr) * \\\n",
        "                np.maximum(0, (1 - x)) * self.scale_fn(cycle)\n",
        "        else:\n",
        "            return self.base_lr + (self.max_lr - self.base_lr) * \\\n",
        "                np.maximum(0, (1 - x)) * self.scale_fn(self.clr_iterations)\n",
        "\n",
        "    def on_train_begin(self, logs={}):\n",
        "        logs = logs or {}\n",
        "\n",
        "        if self.clr_iterations == 0:\n",
        "            K.set_value(self.model.optimizer.lr, self.base_lr)\n",
        "        else:\n",
        "            K.set_value(self.model.optimizer.lr, self.clr())\n",
        "\n",
        "    def on_batch_end(self, epoch, logs=None):\n",
        "\n",
        "        logs = logs or {}\n",
        "        self.trn_iterations += 1\n",
        "        self.clr_iterations += 1\n",
        "        K.set_value(self.model.optimizer.lr, self.clr())\n",
        "\n",
        "        self.history.setdefault(\n",
        "            'lr', []).append(\n",
        "            K.get_value(\n",
        "                self.model.optimizer.lr))\n",
        "        self.history.setdefault('iterations', []).append(self.trn_iterations)\n",
        "\n",
        "        for k, v in logs.items():\n",
        "            self.history.setdefault(k, []).append(v)\n",
        "\n",
        "    def on_epoch_end(self, epoch, logs=None):\n",
        "        print(\"Learning Rate: \", float(K.get_value(self.model.optimizer.lr)))\n",
        "        logs = logs or {}\n",
        "        logs['lr'] = K.get_value(self.model.optimizer.lr)"
      ],
      "execution_count": null,
      "outputs": []
    },
    {
      "cell_type": "code",
      "metadata": {
        "id": "8Lf9vlVJGD1R",
        "colab": {
          "base_uri": "https://localhost:8080/",
          "height": 251
        },
        "outputId": "0bb1c5b9-366f-49c0-ec72-17febdd67517"
      },
      "source": [
        "# Prepare callbacks for model saving and for learning rate adjustment.\n",
        "\n",
        "#filepath='/content/gdrive/My Drive/resnet.h5'\n",
        "\n",
        "#checkpoint = ModelCheckpoint(filepath=filepath,monitor='val_acc', verbose=1, save_best_only=True)\n",
        "checkpoint = ModelCheckpoint(\"densenet.h5\", monitor='val_acc', verbose=1, save_best_only=True, save_weights_only=False, mode='auto', period=1)\n",
        "#early = EarlyStopping(monitor='val_acc', min_delta=0, patience=20, verbose=1, mode='auto')\n",
        "clr = CyclicLR(base_lr=0.001, \n",
        "               max_lr=0.004, # chnged to .004 from .005\n",
        "               step_size=2000., \n",
        "               mode='triangular')\n",
        "\n",
        "lr_reducer = ReduceLROnPlateau(factor=np.sqrt(0.1),\n",
        "                               cooldown=0,\n",
        "                               patience=5,\n",
        "                               min_lr=0.4e-6)  #chnged to .4 from .5\n",
        "\n",
        "#callbacks = [checkpoint, lr_reducer, clr, plot, save_weight]\n",
        "callbacks = [lr_reducer,clr]\n"
      ],
      "execution_count": null,
      "outputs": [
        {
          "output_type": "error",
          "ename": "NameError",
          "evalue": "ignored",
          "traceback": [
            "\u001b[0;31m---------------------------------------------------------------------------\u001b[0m",
            "\u001b[0;31mNameError\u001b[0m                                 Traceback (most recent call last)",
            "\u001b[0;32m<ipython-input-1-b1e3a916afd5>\u001b[0m in \u001b[0;36m<module>\u001b[0;34m()\u001b[0m\n\u001b[0;32m----> 1\u001b[0;31m \u001b[0mcheckpoint\u001b[0m \u001b[0;34m=\u001b[0m \u001b[0mModelCheckpoint\u001b[0m\u001b[0;34m(\u001b[0m\u001b[0;34m\"densenet.h5\"\u001b[0m\u001b[0;34m,\u001b[0m \u001b[0mmonitor\u001b[0m\u001b[0;34m=\u001b[0m\u001b[0;34m'val_acc'\u001b[0m\u001b[0;34m,\u001b[0m \u001b[0mverbose\u001b[0m\u001b[0;34m=\u001b[0m\u001b[0;36m1\u001b[0m\u001b[0;34m,\u001b[0m \u001b[0msave_best_only\u001b[0m\u001b[0;34m=\u001b[0m\u001b[0;32mTrue\u001b[0m\u001b[0;34m,\u001b[0m \u001b[0msave_weights_only\u001b[0m\u001b[0;34m=\u001b[0m\u001b[0;32mFalse\u001b[0m\u001b[0;34m,\u001b[0m \u001b[0mmode\u001b[0m\u001b[0;34m=\u001b[0m\u001b[0;34m'auto'\u001b[0m\u001b[0;34m,\u001b[0m \u001b[0mperiod\u001b[0m\u001b[0;34m=\u001b[0m\u001b[0;36m1\u001b[0m\u001b[0;34m)\u001b[0m\u001b[0;34m\u001b[0m\u001b[0;34m\u001b[0m\u001b[0m\n\u001b[0m\u001b[1;32m      2\u001b[0m \u001b[0;31m#early = EarlyStopping(monitor='val_acc', min_delta=0, patience=20, verbose=1, mode='auto')\u001b[0m\u001b[0;34m\u001b[0m\u001b[0;34m\u001b[0m\u001b[0;34m\u001b[0m\u001b[0m\n\u001b[1;32m      3\u001b[0m clr = CyclicLR(base_lr=0.001, \n\u001b[1;32m      4\u001b[0m                \u001b[0mmax_lr\u001b[0m\u001b[0;34m=\u001b[0m\u001b[0;36m0.004\u001b[0m\u001b[0;34m,\u001b[0m \u001b[0;31m# chnged to .004 from .005\u001b[0m\u001b[0;34m\u001b[0m\u001b[0;34m\u001b[0m\u001b[0m\n\u001b[1;32m      5\u001b[0m                \u001b[0mstep_size\u001b[0m\u001b[0;34m=\u001b[0m\u001b[0;36m2000.\u001b[0m\u001b[0;34m,\u001b[0m\u001b[0;34m\u001b[0m\u001b[0;34m\u001b[0m\u001b[0m\n",
            "\u001b[0;31mNameError\u001b[0m: name 'ModelCheckpoint' is not defined"
          ]
        }
      ]
    },
    {
      "cell_type": "code",
      "metadata": {
        "id": "O-V9jxuMf39g"
      },
      "source": [
        "from keras import models\n",
        "from keras import layers"
      ],
      "execution_count": null,
      "outputs": []
    },
    {
      "cell_type": "code",
      "metadata": {
        "id": "EgiM9YHDhirS"
      },
      "source": [
        ""
      ],
      "execution_count": null,
      "outputs": []
    },
    {
      "cell_type": "code",
      "metadata": {
        "id": "G2gMi3qch58U",
        "colab": {
          "base_uri": "https://localhost:8080/",
          "height": 479
        },
        "outputId": "2e18f17d-bf31-4b30-fc40-0be62675ea9a"
      },
      "source": [
        "from keras.applications import ResNet101V2\n",
        "conv_base=ResNet101V2(weights='imagenet',include_top=False,input_shape=(224,224,3))"
      ],
      "execution_count": null,
      "outputs": [
        {
          "output_type": "stream",
          "text": [
            "WARNING:tensorflow:From /usr/local/lib/python3.6/dist-packages/keras/backend/tensorflow_backend.py:66: The name tf.get_default_graph is deprecated. Please use tf.compat.v1.get_default_graph instead.\n",
            "\n",
            "WARNING:tensorflow:From /usr/local/lib/python3.6/dist-packages/keras/backend/tensorflow_backend.py:541: The name tf.placeholder is deprecated. Please use tf.compat.v1.placeholder instead.\n",
            "\n",
            "WARNING:tensorflow:From /usr/local/lib/python3.6/dist-packages/keras/backend/tensorflow_backend.py:4432: The name tf.random_uniform is deprecated. Please use tf.random.uniform instead.\n",
            "\n",
            "WARNING:tensorflow:From /usr/local/lib/python3.6/dist-packages/keras/backend/tensorflow_backend.py:4267: The name tf.nn.max_pool is deprecated. Please use tf.nn.max_pool2d instead.\n",
            "\n",
            "WARNING:tensorflow:From /usr/local/lib/python3.6/dist-packages/keras/backend/tensorflow_backend.py:190: The name tf.get_default_session is deprecated. Please use tf.compat.v1.get_default_session instead.\n",
            "\n",
            "WARNING:tensorflow:From /usr/local/lib/python3.6/dist-packages/keras/backend/tensorflow_backend.py:197: The name tf.ConfigProto is deprecated. Please use tf.compat.v1.ConfigProto instead.\n",
            "\n",
            "WARNING:tensorflow:From /usr/local/lib/python3.6/dist-packages/keras/backend/tensorflow_backend.py:203: The name tf.Session is deprecated. Please use tf.compat.v1.Session instead.\n",
            "\n",
            "WARNING:tensorflow:From /usr/local/lib/python3.6/dist-packages/keras/backend/tensorflow_backend.py:207: The name tf.global_variables is deprecated. Please use tf.compat.v1.global_variables instead.\n",
            "\n",
            "WARNING:tensorflow:From /usr/local/lib/python3.6/dist-packages/keras/backend/tensorflow_backend.py:216: The name tf.is_variable_initialized is deprecated. Please use tf.compat.v1.is_variable_initialized instead.\n",
            "\n",
            "WARNING:tensorflow:From /usr/local/lib/python3.6/dist-packages/keras/backend/tensorflow_backend.py:223: The name tf.variables_initializer is deprecated. Please use tf.compat.v1.variables_initializer instead.\n",
            "\n",
            "WARNING:tensorflow:From /usr/local/lib/python3.6/dist-packages/keras/backend/tensorflow_backend.py:2041: The name tf.nn.fused_batch_norm is deprecated. Please use tf.compat.v1.nn.fused_batch_norm instead.\n",
            "\n",
            "WARNING:tensorflow:From /usr/local/lib/python3.6/dist-packages/keras/backend/tensorflow_backend.py:148: The name tf.placeholder_with_default is deprecated. Please use tf.compat.v1.placeholder_with_default instead.\n",
            "\n",
            "Downloading data from https://github.com/keras-team/keras-applications/releases/download/resnet/resnet101v2_weights_tf_dim_ordering_tf_kernels_notop.h5\n",
            "171319296/171317808 [==============================] - 14s 0us/step\n"
          ],
          "name": "stdout"
        }
      ]
    },
    {
      "cell_type": "code",
      "metadata": {
        "id": "UJAl9P5AkSo-"
      },
      "source": [
        "from keras.layers import Dense, Dropout, Flatten, Conv2D, MaxPool2D,GlobalAveragePooling2D\n",
        "model=conv_base.output\n",
        "model=GlobalAveragePooling2D()(model)\n",
        "\n",
        "predictions = Dense(3, activation= 'softmax')(model)\n",
        "model = Model(inputs = conv_base.input, outputs = predictions)"
      ],
      "execution_count": null,
      "outputs": []
    },
    {
      "cell_type": "code",
      "metadata": {
        "id": "_OQxQnvSmLHG"
      },
      "source": [
        "conv_base.trainable=False"
      ],
      "execution_count": null,
      "outputs": []
    },
    {
      "cell_type": "code",
      "metadata": {
        "id": "bCuo-QammaGD",
        "colab": {
          "base_uri": "https://localhost:8080/",
          "height": 105
        },
        "outputId": "a88d4347-0abc-460f-b586-21b56ffb6eaa"
      },
      "source": [
        "# compile set call backs\n",
        "opt = SGD(lr=0.001, momentum=0.9)\n",
        "model.compile(loss='categorical_crossentropy',\n",
        "              optimizer=opt,\n",
        "              metrics=['accuracy'])\n"
      ],
      "execution_count": null,
      "outputs": [
        {
          "output_type": "stream",
          "text": [
            "WARNING:tensorflow:From /usr/local/lib/python3.6/dist-packages/keras/optimizers.py:793: The name tf.train.Optimizer is deprecated. Please use tf.compat.v1.train.Optimizer instead.\n",
            "\n",
            "WARNING:tensorflow:From /usr/local/lib/python3.6/dist-packages/keras/backend/tensorflow_backend.py:3576: The name tf.log is deprecated. Please use tf.math.log instead.\n",
            "\n"
          ],
          "name": "stdout"
        }
      ]
    },
    {
      "cell_type": "code",
      "metadata": {
        "id": "2cDRqnBemp_d",
        "colab": {
          "base_uri": "https://localhost:8080/",
          "height": 1000
        },
        "outputId": "8f49d140-1a8b-4179-c57e-8a3317d279e0"
      },
      "source": [
        "nb_epoch=200\n",
        "last_executed_epoch=0\n",
        "\n",
        "print('Training for Epochs : ' + str(last_executed_epoch+1) + ' - ' + str(nb_epoch) + \" -------------------------------\")\n",
        "\n",
        "# Fit the model on the batches generated by datagen.flow().\n",
        "model.fit_generator(generator=train_generator, validation_data=validation_generator, use_multiprocessing=True, epochs=nb_epoch, initial_epoch=last_executed_epoch, verbose=1, workers=6, callbacks=callbacks)"
      ],
      "execution_count": null,
      "outputs": [
        {
          "output_type": "stream",
          "text": [
            "Training for Epochs : 1 - 200 -------------------------------\n",
            "Epoch 1/200\n",
            "27/27 [==============================] - 67s 2s/step - loss: 0.0533 - acc: 0.9826 - val_loss: 0.5315 - val_acc: 0.8889\n",
            "Learning Rate:  0.003700000001117587\n",
            "Epoch 2/200\n",
            "27/27 [==============================] - 65s 2s/step - loss: 0.0665 - acc: 0.9763 - val_loss: 1.1263 - val_acc: 0.8333\n",
            "Learning Rate:  0.0037674999330192804\n",
            "Epoch 3/200\n",
            "27/27 [==============================] - 64s 2s/step - loss: 0.0473 - acc: 0.9803 - val_loss: 0.5852 - val_acc: 0.8611\n",
            "Learning Rate:  0.0038350000977516174\n",
            "Epoch 4/200\n",
            "27/27 [==============================] - 63s 2s/step - loss: 0.0541 - acc: 0.9780 - val_loss: 0.6099 - val_acc: 0.8056\n",
            "Learning Rate:  0.0039025000296533108\n",
            "Epoch 5/200\n",
            "27/27 [==============================] - 64s 2s/step - loss: 0.0854 - acc: 0.9710 - val_loss: 1.1181 - val_acc: 0.7778\n",
            "Learning Rate:  0.003969999961555004\n",
            "Epoch 6/200\n",
            "27/27 [==============================] - 63s 2s/step - loss: 0.1001 - acc: 0.9619 - val_loss: 0.4348 - val_acc: 0.9167\n",
            "Learning Rate:  0.0040374998934566975\n",
            "Epoch 7/200\n",
            "27/27 [==============================] - 63s 2s/step - loss: 0.0571 - acc: 0.9798 - val_loss: 0.5771 - val_acc: 0.8056\n",
            "Learning Rate:  0.004104999825358391\n",
            "Epoch 8/200\n",
            "26/27 [===========================>..] - ETA: 2s - loss: 0.0574 - acc: 0.9772 0.004104999825358391\n",
            "27/27 [==============================] - 64s 2s/step - loss: 0.0555 - acc: 0.9780 - val_loss: 0.5190 - val_acc: 0.9167\n",
            "Learning Rate:  0.0041725002229213715\n",
            "Epoch 9/200\n",
            "27/27 [==============================] - 63s 2s/step - loss: 0.0632 - acc: 0.9728 - val_loss: 0.6794 - val_acc: 0.8889\n",
            "Learning Rate:  0.004240000154823065\n",
            "Epoch 10/200\n",
            "27/27 [==============================] - 63s 2s/step - loss: 0.0434 - acc: 0.9861 - val_loss: 0.5069 - val_acc: 0.8333\n",
            "Learning Rate:  0.004307500086724758\n",
            "Epoch 11/200\n",
            "27/27 [==============================] - 63s 2s/step - loss: 0.0496 - acc: 0.9775 - val_loss: 0.3981 - val_acc: 0.9167\n",
            "Learning Rate:  0.0043750000186264515\n",
            "Epoch 12/200\n",
            "27/27 [==============================] - 65s 2s/step - loss: 0.0273 - acc: 0.9873 - val_loss: 0.4930 - val_acc: 0.8611\n",
            "Learning Rate:  0.004442499950528145\n",
            "Epoch 13/200\n",
            "26/27 [===========================>..] - ETA: 2s - loss: 0.0412 - acc: 0.9868Learning Rate:  0.004442499950528145\n",
            "27/27 [==============================] - 63s 2s/step - loss: 0.0421 - acc: 0.9861 - val_loss: 0.2875 - val_acc: 0.9167\n",
            "Learning Rate:  0.004509999882429838\n",
            "Epoch 14/200\n",
            "26/27 [===========================>..] - ETA: 2s - loss: 0.0251 - acc: 0.9916Epoch 14/200\n",
            "27/27 [==============================] - 63s 2s/step - loss: 0.0328 - acc: 0.9896 - val_loss: 0.2485 - val_acc: 0.8889\n",
            "Learning Rate:  0.0045774998143315315\n",
            "Epoch 15/200\n",
            "26/27 [===========================>..] - ETA: 2s - loss: 0.0597 - acc: 0.9753Learning Rate:  0.0045774998143315315\n",
            "27/27 [==============================] - 63s 2s/step - loss: 0.0584 - acc: 0.9763 - val_loss: 0.8505 - val_acc: 0.8611\n",
            "Learning Rate:  0.004645000211894512\n",
            "Epoch 16/200\n",
            "27/27 [==============================] - 63s 2s/step - loss: 0.0644 - acc: 0.9763 - val_loss: 0.8949 - val_acc: 0.6944\n",
            "Learning Rate:  0.0047125001437962055\n",
            "Epoch 17/200\n",
            "27/27 [==============================] - 63s 2s/step - loss: 0.0773 - acc: 0.9740 - val_loss: 0.6782 - val_acc: 0.8611\n",
            "Learning Rate:  0.004780000075697899\n",
            "Epoch 18/200\n",
            "26/27 [===========================>..] - ETA: 2s - loss: 0.0513 - acc: 0.9753Learning Rate:  0.004780000075697899\n",
            "27/27 [==============================] - 64s 2s/step - loss: 0.0498 - acc: 0.9763 - val_loss: 1.1683 - val_acc: 0.8333\n",
            "Learning Rate:  0.004847500007599592\n",
            "Epoch 19/200\n",
            "27/27 [==============================] - 64s 2s/step - loss: 0.0469 - acc: 0.9849 - val_loss: 0.8982 - val_acc: 0.8333\n",
            "Learning Rate:  0.001554259448312223\n",
            "Epoch 20/200\n",
            "27/27 [==============================] - 63s 2s/step - loss: 0.0436 - acc: 0.9826 - val_loss: 1.0719 - val_acc: 0.7778\n",
            "Learning Rate:  0.004982499871402979\n",
            "Epoch 21/200\n",
            "27/27 [==============================] - 65s 2s/step - loss: 0.0611 - acc: 0.9752 - val_loss: 1.1909 - val_acc: 0.8056\n",
            "Learning Rate:  0.005049999803304672\n",
            "Epoch 22/200\n",
            "27/27 [==============================] - 63s 2s/step - loss: 0.1864 - acc: 0.9376 - val_loss: 1.2125 - val_acc: 0.6389\n",
            "Learning Rate:  0.005117500200867653\n",
            "Epoch 23/200\n",
            "27/27 [==============================] - 65s 2s/step - loss: 0.1895 - acc: 0.9427 - val_loss: 1.0365 - val_acc: 0.7222\n",
            "Learning Rate:  0.005185000132769346\n",
            "Epoch 24/200\n",
            "27/27 [==============================] - 63s 2s/step - loss: 0.2157 - acc: 0.9311 - val_loss: 0.7012 - val_acc: 0.6944\n",
            "Learning Rate:  0.0016609863378107548\n",
            "Epoch 25/200\n",
            "27/27 [==============================] - 64s 2s/step - loss: 0.1609 - acc: 0.9404 - val_loss: 1.2303 - val_acc: 0.6389\n",
            "Learning Rate:  0.005319999996572733\n",
            "Epoch 26/200\n",
            "27/27 [==============================] - 63s 2s/step - loss: 0.0831 - acc: 0.9803 - val_loss: 0.5769 - val_acc: 0.8056\n",
            "Learning Rate:  0.005387499928474426\n",
            "Epoch 27/200\n",
            "27/27 [==============================] - 64s 2s/step - loss: 0.0650 - acc: 0.9768 - val_loss: 0.7476 - val_acc: 0.7500\n",
            "Learning Rate:  0.00545499986037612\n",
            "Epoch 28/200\n",
            "27/27 [==============================] - 64s 2s/step - loss: 0.0515 - acc: 0.9803 - val_loss: 0.3197 - val_acc: 0.8611\n",
            "Learning Rate:  0.005522499792277813\n",
            "Epoch 29/200\n",
            "27/27 [==============================] - 63s 2s/step - loss: 0.0405 - acc: 0.9838 - val_loss: 0.3240 - val_acc: 0.9167\n",
            "Learning Rate:  0.0017677132273092866\n",
            "Epoch 30/200\n",
            "27/27 [==============================] - 64s 2s/step - loss: 0.0628 - acc: 0.9815 - val_loss: 0.5535 - val_acc: 0.8333\n",
            "Learning Rate:  0.005657500121742487\n",
            "Epoch 31/200\n",
            "27/27 [==============================] - 64s 2s/step - loss: 0.0520 - acc: 0.9838 - val_loss: 0.6190 - val_acc: 0.8333\n",
            "Learning Rate:  0.00572500005364418\n",
            "Epoch 32/200\n",
            "27/27 [==============================] - 64s 2s/step - loss: 0.0771 - acc: 0.9665 - val_loss: 1.5491 - val_acc: 0.7778\n",
            "Learning Rate:  0.005792499985545874\n",
            "Epoch 33/200\n",
            "27/27 [==============================] - 64s 2s/step - loss: 0.1063 - acc: 0.9641 - val_loss: 0.8205 - val_acc: 0.8889\n",
            "Learning Rate:  0.005859999917447567\n",
            "Epoch 34/200\n",
            "27/27 [==============================] - 64s 2s/step - loss: 0.0936 - acc: 0.9654 - val_loss: 0.5402 - val_acc: 0.8611\n",
            "Learning Rate:  0.0018744400003924966\n",
            "Epoch 35/200\n",
            "27/27 [==============================] - 63s 2s/step - loss: 0.1679 - acc: 0.9601 - val_loss: 0.9351 - val_acc: 0.7778\n",
            "Learning Rate:  0.005994999781250954\n",
            "Epoch 36/200\n",
            "27/27 [==============================] - 64s 2s/step - loss: 0.1035 - acc: 0.9578 - val_loss: 1.6029 - val_acc: 0.6944\n",
            "Learning Rate:  0.005937499925494194\n",
            "Epoch 37/200\n",
            "27/27 [==============================] - 63s 2s/step - loss: 0.0688 - acc: 0.9705 - val_loss: 1.0086 - val_acc: 0.7500\n",
            "Learning Rate:  0.005869999993592501\n",
            "Epoch 38/200\n",
            "27/27 [==============================] - 63s 2s/step - loss: 0.0485 - acc: 0.9821 - val_loss: 1.3272 - val_acc: 0.7778\n",
            "Learning Rate:  0.005802500061690807\n",
            "Epoch 39/200\n",
            "26/27 [===========================>..] - ETA: 2s - loss: 0.0442 - acc: 0.9784\b\b\b\b\b\b\b\b\b\b\b\b\b\b\b\b\b\b\b\b\b\b\b\b\b\b\b\b\b\b\b\b\b\b\b\b\b\b\b\b\b\b\b\b\b\b\b\b\b\b\b\b\b\b\b\b\b\b\b\b\b\b\b\b\b\b\b\b\b\b\b\b\b\b\b\b\bLearning Rate:  0.005802500061690807\n",
            "27/27 [==============================] - 64s 2s/step - loss: 0.0441 - acc: 0.9780 - val_loss: 1.2611 - val_acc: 0.7778\n",
            "Learning Rate:  0.0018135663121938705\n",
            "Epoch 40/200\n",
            "27/27 [==============================] - 63s 2s/step - loss: 0.0757 - acc: 0.9717 - val_loss: 1.3417 - val_acc: 0.7222\n",
            "Learning Rate:  0.005667500197887421\n",
            "Epoch 41/200\n",
            "26/27 [===========================>..] - ETA: 2s - loss: 0.0403 - acc: 0.9844 0.005667500197887421\n",
            "27/27 [==============================] - 64s 2s/step - loss: 0.0427 - acc: 0.9838 - val_loss: 0.5157 - val_acc: 0.8056\n",
            "Learning Rate:  0.00559999980032444\n",
            "Epoch 42/200\n",
            "27/27 [==============================] - 63s 2s/step - loss: 0.0351 - acc: 0.9849 - val_loss: 1.0063 - val_acc: 0.8056\n",
            "Learning Rate:  0.005532499868422747\n",
            "Epoch 43/200\n",
            " 0.00559999980032444\n",
            "27/27 [==============================] - 65s 2s/step - loss: 0.0327 - acc: 0.9821 - val_loss: 0.5706 - val_acc: 0.8333\n",
            "Learning Rate:  0.005464999936521053\n",
            "Epoch 44/200\n",
            "27/27 [==============================] - 63s 2s/step - loss: 0.0660 - acc: 0.9757 - val_loss: 0.5846 - val_acc: 0.8333\n",
            "Learning Rate:  0.0017068394226953387\n",
            "Epoch 45/200\n",
            "27/27 [==============================] - 64s 2s/step - loss: 0.0417 - acc: 0.9844 - val_loss: 1.2975 - val_acc: 0.7222\n",
            "Learning Rate:  0.005330000072717667\n",
            "Epoch 46/200\n",
            "27/27 [==============================] - 63s 2s/step - loss: 0.0738 - acc: 0.9717 - val_loss: 0.8346 - val_acc: 0.8333\n",
            "Learning Rate:  0.005262500140815973\n",
            "Epoch 47/200\n",
            "27/27 [==============================] - 64s 2s/step - loss: 0.0492 - acc: 0.9849 - val_loss: 0.7779 - val_acc: 0.8056\n",
            "Learning Rate:  0.00519500020891428\n",
            "Epoch 48/200\n",
            "27/27 [==============================] - 63s 2s/step - loss: 0.0421 - acc: 0.9873 - val_loss: 0.9750 - val_acc: 0.8333\n",
            "Learning Rate:  0.005127499811351299\n",
            "Epoch 49/200\n",
            "27/27 [==============================] - 63s 2s/step - loss: 0.0240 - acc: 0.9919 - val_loss: 1.0056 - val_acc: 0.8333\n",
            "Learning Rate:  0.001600112416781485\n",
            "Epoch 50/200\n",
            "27/27 [==============================] - 63s 2s/step - loss: 0.0248 - acc: 0.9844 - val_loss: 0.6937 - val_acc: 0.9167\n",
            "Learning Rate:  0.004992499947547913\n",
            "Epoch 51/200\n",
            "27/27 [==============================] - 63s 2s/step - loss: 0.0181 - acc: 0.9884 - val_loss: 0.7445 - val_acc: 0.9167\n",
            "Learning Rate:  0.004925000015646219\n",
            "Epoch 52/200\n",
            "27/27 [==============================] - 65s 2s/step - loss: 0.0212 - acc: 0.9896 - val_loss: 0.6101 - val_acc: 0.9167\n",
            "Learning Rate:  0.004857500083744526\n",
            "Epoch 53/200\n",
            "27/27 [==============================] - 63s 2s/step - loss: 0.0210 - acc: 0.9930 - val_loss: 0.8135 - val_acc: 0.9167\n",
            "Learning Rate:  0.0047900001518428326\n",
            "Epoch 54/200\n",
            "27/27 [==============================] - 64s 2s/step - loss: 0.0270 - acc: 0.9907 - val_loss: 0.7353 - val_acc: 0.9444\n",
            "Learning Rate:  0.001493385643698275\n",
            "Epoch 55/200\n",
            "27/27 [==============================] - 64s 2s/step - loss: 0.0268 - acc: 0.9873 - val_loss: 0.6772 - val_acc: 0.9444\n",
            "Learning Rate:  0.004654999822378159\n",
            "Epoch 56/200\n",
            "26/27 [===========================>..] - ETA: 2s - loss: 0.0251 - acc: 0.9904Epoch 56/200\n",
            "27/27 [==============================] - 64s 2s/step - loss: 0.0252 - acc: 0.9907 - val_loss: 0.7484 - val_acc: 0.9167\n",
            "Learning Rate:  0.004587499890476465\n",
            "Epoch 57/200\n",
            "27/27 [==============================] - 63s 2s/step - loss: 0.0190 - acc: 0.9907 - val_loss: 0.8847 - val_acc: 0.8333\n",
            "Learning Rate:  0.004519999958574772\n",
            "Epoch 58/200\n",
            "27/27 [==============================] - 65s 2s/step - loss: 0.0375 - acc: 0.9838 - val_loss: 1.2265 - val_acc: 0.8611\n",
            "Learning Rate:  0.0044525000266730785\n",
            "Epoch 59/200\n",
            "27/27 [==============================] - 64s 2s/step - loss: 0.0584 - acc: 0.9798 - val_loss: 1.6470 - val_acc: 0.8056\n",
            "Learning Rate:  0.0013866587541997433\n",
            "Epoch 60/200\n",
            "27/27 [==============================] - 64s 2s/step - loss: 0.0426 - acc: 0.9821 - val_loss: 1.4180 - val_acc: 0.8333\n",
            "Learning Rate:  0.004317500162869692\n",
            "Epoch 61/200\n",
            "27/27 [==============================] - 64s 2s/step - loss: 0.0477 - acc: 0.9856 - val_loss: 0.8843 - val_acc: 0.8333\n",
            "Learning Rate:  0.0042500002309679985\n",
            "Epoch 62/200\n",
            "27/27 [==============================] - 63s 2s/step - loss: 0.0450 - acc: 0.9861 - val_loss: 1.0931 - val_acc: 0.8333\n",
            "Learning Rate:  0.004182499833405018\n",
            "Epoch 63/200\n",
            "26/27 [===========================>..] - ETA: 2s - loss: 0.0298 - acc: 0.9849 0.004182499833405018\n",
            "27/27 [==============================] - 63s 2s/step - loss: 0.0294 - acc: 0.9856 - val_loss: 0.7820 - val_acc: 0.8889\n",
            "Learning Rate:  0.0041149999015033245\n",
            "Epoch 64/200\n",
            "27/27 [==============================] - 63s 2s/step - loss: 0.0223 - acc: 0.9873 - val_loss: 0.6106 - val_acc: 0.9167\n",
            "Learning Rate:  0.0012799318647012115\n",
            "Epoch 65/200\n",
            "27/27 [==============================] - 64s 2s/step - loss: 0.0555 - acc: 0.9746 - val_loss: 0.8674 - val_acc: 0.8056\n",
            "Learning Rate:  0.003980000037699938\n",
            "Epoch 66/200\n",
            "27/27 [==============================] - 63s 2s/step - loss: 0.0360 - acc: 0.9803 - val_loss: 0.6652 - val_acc: 0.8889\n",
            "Learning Rate:  0.0039125001057982445\n",
            "Epoch 67/200\n",
            "27/27 [==============================] - 64s 2s/step - loss: 0.0526 - acc: 0.9728 - val_loss: 0.2226 - val_acc: 0.9167\n",
            "Learning Rate:  0.0038449999410659075\n",
            "Epoch 68/200\n",
            "27/27 [==============================] - 64s 2s/step - loss: 0.0226 - acc: 0.9907 - val_loss: 0.2088 - val_acc: 0.8889\n",
            "Learning Rate:  0.003777500009164214\n",
            "Epoch 69/200\n",
            "27/27 [==============================] - 63s 2s/step - loss: 0.0339 - acc: 0.9896 - val_loss: 0.5587 - val_acc: 0.8889\n",
            "Learning Rate:  0.003710000077262521\n",
            "Epoch 70/200\n",
            "27/27 [==============================] - 65s 2s/step - loss: 0.0163 - acc: 0.9954 - val_loss: 0.5779 - val_acc: 0.8889\n",
            "Learning Rate:  0.003642499912530184\n",
            "Epoch 71/200\n",
            "27/27 [==============================] - 63s 2s/step - loss: 0.0135 - acc: 0.9907 - val_loss: 0.5936 - val_acc: 0.8611\n",
            "Learning Rate:  0.0035749999806284904\n",
            "Epoch 72/200\n",
            "26/27 [===========================>..] - ETA: 2s - loss: 0.0139 - acc: 0.9940 0.0035749999806284904\n",
            "27/27 [==============================] - 63s 2s/step - loss: 0.0144 - acc: 0.9930 - val_loss: 0.5971 - val_acc: 0.8889\n",
            "Learning Rate:  0.003507500048726797\n",
            "Epoch 73/200\n",
            "27/27 [==============================] - 64s 2s/step - loss: 0.0165 - acc: 0.9919 - val_loss: 0.6849 - val_acc: 0.8889\n",
            "Learning Rate:  0.0010878235334530473\n",
            "Epoch 74/200\n",
            "27/27 [==============================] - 64s 2s/step - loss: 0.0165 - acc: 0.9919 - val_loss: 0.6849 - val_acc: 0.8889\n",
            "27/27 [==============================] - 63s 2s/step - loss: 0.0147 - acc: 0.9919 - val_loss: 0.6289 - val_acc: 0.8611\n",
            "Learning Rate:  0.0033724999520927668\n",
            "Epoch 75/200\n",
            "27/27 [==============================] - 64s 2s/step - loss: 0.0566 - acc: 0.9746 - val_loss: 1.1446 - val_acc: 0.8056\n",
            "Learning Rate:  0.0033050000201910734\n",
            "Epoch 76/200\n",
            "27/27 [==============================] - 63s 2s/step - loss: 0.0212 - acc: 0.9884 - val_loss: 0.8019 - val_acc: 0.8611\n",
            "Learning Rate:  0.00323750008828938\n",
            "Epoch 77/200\n",
            "27/27 [==============================] - 63s 2s/step - loss: 0.0214 - acc: 0.9879 - val_loss: 0.8760 - val_acc: 0.8333\n",
            "Learning Rate:  0.003169999923557043\n",
            "Epoch 78/200\n",
            "27/27 [==============================] - 63s 2s/step - loss: 0.0843 - acc: 0.9763 - val_loss: 1.0515 - val_acc: 0.8611\n",
            "Learning Rate:  0.0009810966439545155\n",
            "Epoch 79/200\n",
            "27/27 [==============================] - 63s 2s/step - loss: 0.0334 - acc: 0.9873 - val_loss: 0.7131 - val_acc: 0.8056\n",
            "Learning Rate:  0.0030350000597536564\n",
            "Epoch 80/200\n",
            "27/27 [==============================] - 63s 2s/step - loss: 0.0155 - acc: 0.9919 - val_loss: 0.6752 - val_acc: 0.8333\n",
            "Learning Rate:  0.0029674998950213194\n",
            "Epoch 81/200\n",
            "27/27 [==============================] - 63s 2s/step - loss: 0.0169 - acc: 0.9896 - val_loss: 0.7038 - val_acc: 0.8333\n",
            "Learning Rate:  0.002899999963119626\n",
            "Epoch 82/200\n",
            "27/27 [==============================] - 63s 2s/step - loss: 0.0151 - acc: 0.9919 - val_loss: 0.5867 - val_acc: 0.8889\n",
            "Learning Rate:  0.0028325000312179327\n",
            "Epoch 83/200\n",
            "27/27 [==============================] - 63s 2s/step - loss: 0.0138 - acc: 0.9907 - val_loss: 0.5597 - val_acc: 0.8889\n",
            "Learning Rate:  0.0008743698126636446\n",
            "Epoch 84/200\n",
            "27/27 [==============================] - 63s 2s/step - loss: 0.0615 - acc: 0.9781 - val_loss: 0.7698 - val_acc: 0.8889\n",
            "Learning Rate:  0.0026974999345839024\n",
            "Epoch 85/200\n",
            "26/27 [===========================>..] - ETA: 2s - loss: 0.0140 - acc: 0.9940Epoch 85/200\n",
            "27/27 [==============================] - 64s 2s/step - loss: 0.0136 - acc: 0.9942 - val_loss: 0.7477 - val_acc: 0.8889\n",
            "Learning Rate:  0.002630000002682209\n",
            "Epoch 86/200\n",
            "27/27 [==============================] - 63s 2s/step - loss: 0.0301 - acc: 0.9856 - val_loss: 0.7598 - val_acc: 0.8889\n",
            "Learning Rate:  0.0025625000707805157\n",
            "Epoch 87/200\n",
            "27/27 [==============================] - 64s 2s/step - loss: 0.0140 - acc: 0.9942 - val_loss: 0.7774 - val_acc: 0.8889\n",
            "Learning Rate:  0.0024949999060481787\n",
            "Epoch 88/200\n",
            "27/27 [==============================] - 63s 2s/step - loss: 0.0146 - acc: 0.9930 - val_loss: 0.7773 - val_acc: 0.8889\n",
            "Learning Rate:  0.0007676428649574518\n",
            "Epoch 89/200\n",
            "27/27 [==============================] - 63s 2s/step - loss: 0.0166 - acc: 0.9930 - val_loss: 0.7724 - val_acc: 0.8889\n",
            "Learning Rate:  0.002360000042244792\n",
            "Epoch 90/200\n",
            "26/27 [===========================>..] - ETA: 2s - loss: 0.0223 - acc: 0.9897Learning Rate:  0.002360000042244792\n",
            "27/27 [==============================] - 63s 2s/step - loss: 0.0212 - acc: 0.9902 - val_loss: 0.7326 - val_acc: 0.8611\n",
            "Learning Rate:  0.0022925001103430986\n",
            "Epoch 91/200\n",
            "27/27 [==============================] - 63s 2s/step - loss: 0.0129 - acc: 0.9930 - val_loss: 0.7753 - val_acc: 0.8333\n",
            "Learning Rate:  0.0022249999456107616\n",
            "Epoch 92/200\n",
            "27/27 [==============================] - 64s 2s/step - loss: 0.0127 - acc: 0.9930 - val_loss: 0.7030 - val_acc: 0.8611\n",
            "Learning Rate:  0.0021575000137090683\n",
            "Epoch 93/200\n",
            "27/27 [==============================] - 63s 2s/step - loss: 0.0287 - acc: 0.9828 - val_loss: 0.9177 - val_acc: 0.8333\n",
            "Learning Rate:  0.0006609160336665809\n",
            "Epoch 94/200\n",
            "27/27 [==============================] - 62s 2s/step - loss: 0.0304 - acc: 0.9884 - val_loss: 0.8904 - val_acc: 0.8611\n",
            "Learning Rate:  0.002022499917075038\n",
            "Epoch 95/200\n",
            "27/27 [==============================] - 65s 2s/step - loss: 0.0211 - acc: 0.9861 - val_loss: 0.7785 - val_acc: 0.8611\n",
            "Learning Rate:  0.0019549999851733446\n",
            "Epoch 96/200\n",
            "27/27 [==============================] - 63s 2s/step - loss: 0.0307 - acc: 0.9879 - val_loss: 0.8484 - val_acc: 0.8611\n",
            "Learning Rate:  0.0018875000532716513\n",
            "Epoch 97/200\n",
            "27/27 [==============================] - 63s 2s/step - loss: 0.0214 - acc: 0.9919 - val_loss: 0.6924 - val_acc: 0.8333\n",
            "Learning Rate:  0.001820000004954636\n",
            "Epoch 98/200\n",
            "26/27 [===========================>..] - ETA: 2s - loss: 0.0657 - acc: 0.9782Epoch 98/200\n",
            "27/27 [==============================] - 63s 2s/step - loss: 0.0621 - acc: 0.9793 - val_loss: 0.6742 - val_acc: 0.8611\n",
            "Learning Rate:  0.0005541891441680491\n",
            "Epoch 99/200\n",
            "27/27 [==============================] - 63s 2s/step - loss: 0.0221 - acc: 0.9884 - val_loss: 0.6322 - val_acc: 0.8611\n",
            "Learning Rate:  0.0016850000247359276\n",
            "Epoch 100/200\n",
            "27/27 [==============================] - 62s 2s/step - loss: 0.0159 - acc: 0.9879 - val_loss: 0.6039 - val_acc: 0.8611\n",
            "Learning Rate:  0.0016174999764189124\n",
            "Epoch 101/200\n",
            "27/27 [==============================] - 64s 2s/step - loss: 0.0162 - acc: 0.9919 - val_loss: 0.6157 - val_acc: 0.8611\n",
            "Learning Rate:  0.001550000044517219\n",
            "Epoch 102/200\n",
            "27/27 [==============================] - 63s 2s/step - loss: 0.0131 - acc: 0.9930 - val_loss: 0.6217 - val_acc: 0.8611\n",
            "Learning Rate:  0.001482499996200204\n",
            "Epoch 103/200\n",
            "27/27 [==============================] - 64s 2s/step - loss: 0.0125 - acc: 0.9919 - val_loss: 0.6031 - val_acc: 0.8611\n",
            "Learning Rate:  0.00044746228377334774\n",
            "Epoch 104/200\n",
            "27/27 [==============================] - 64s 2s/step - loss: 0.0143 - acc: 0.9942 - val_loss: 0.5845 - val_acc: 0.8889\n",
            "Learning Rate:  0.0013475000159814954\n",
            "Epoch 105/200\n",
            "27/27 [==============================] - 64s 2s/step - loss: 0.0118 - acc: 0.9954 - val_loss: 0.5928 - val_acc: 0.8889\n",
            "Learning Rate:  0.0012799999676644802\n",
            "Epoch 106/200\n",
            "27/27 [==============================] - 62s 2s/step - loss: 0.0152 - acc: 0.9930 - val_loss: 0.5918 - val_acc: 0.8889\n",
            "Learning Rate:  0.0012125000357627869\n",
            "Epoch 107/200\n",
            "27/27 [==============================] - 63s 2s/step - loss: 0.0532 - acc: 0.9839 - val_loss: 0.5653 - val_acc: 0.8889\n",
            "Learning Rate:  0.0011449999874457717\n",
            "Epoch 108/200\n",
            "26/27 [===========================>..] - ETA: 2s - loss: 0.0131 - acc: 0.9952Learning Rate:  0.0011449999874457717\n",
            "27/27 [==============================] - 64s 2s/step - loss: 0.0136 - acc: 0.9954 - val_loss: 0.5054 - val_acc: 0.8611\n",
            "Learning Rate:  0.0003407354233786464\n",
            "Epoch 109/200\n",
            "27/27 [==============================] - 64s 2s/step - loss: 0.0134 - acc: 0.9930 - val_loss: 0.5414 - val_acc: 0.8611\n",
            "Learning Rate:  0.0010100000072270632\n",
            "Epoch 110/200\n",
            "27/27 [==============================] - 64s 2s/step - loss: 0.0207 - acc: 0.9907 - val_loss: 0.5422 - val_acc: 0.8889\n",
            "Learning Rate:  0.0010575000196695328\n",
            "Epoch 111/200\n",
            "27/27 [==============================] - 64s 2s/step - loss: 0.0107 - acc: 0.9942 - val_loss: 0.5421 - val_acc: 0.8889\n",
            "Learning Rate:  0.0011249999515712261\n",
            "Epoch 112/200\n",
            "27/27 [==============================] - 65s 2s/step - loss: 0.0133 - acc: 0.9930 - val_loss: 0.5525 - val_acc: 0.8889\n",
            "Learning Rate:  0.0011924999998882413\n",
            "Epoch 113/200\n",
            "27/27 [==============================] - 65s 2s/step - loss: 0.0138 - acc: 0.9919 - val_loss: 0.5783 - val_acc: 0.8611\n",
            "Learning Rate:  0.00039844700950197875\n",
            "Epoch 114/200\n",
            "27/27 [==============================] - 64s 2s/step - loss: 0.0137 - acc: 0.9914 - val_loss: 0.5997 - val_acc: 0.8611\n",
            "Learning Rate:  0.0013274999801069498\n",
            "Epoch 115/200\n",
            "27/27 [==============================] - 65s 2s/step - loss: 0.0154 - acc: 0.9907 - val_loss: 0.5865 - val_acc: 0.8889\n",
            "Learning Rate:  0.001395000028423965\n",
            "Epoch 116/200\n",
            "27/27 [==============================] - 63s 2s/step - loss: 0.0194 - acc: 0.9879 - val_loss: 0.5962 - val_acc: 0.8611\n",
            "Learning Rate:  0.0014624999603256583\n",
            "Epoch 117/200\n",
            "27/27 [==============================] - 64s 2s/step - loss: 0.0205 - acc: 0.9907 - val_loss: 0.6067 - val_acc: 0.9167\n",
            "Learning Rate:  0.0015300000086426735\n",
            "Epoch 118/200\n",
            "26/27 [===========================>..] - ETA: 2s - loss: 0.0576 - acc: 0.9873Learning Rate:  0.0015300000086426735\n",
            "27/27 [==============================] - 64s 2s/step - loss: 0.0550 - acc: 0.9879 - val_loss: 0.5582 - val_acc: 0.9167\n",
            "Learning Rate:  0.0005051738698966801\n",
            "Epoch 119/200\n",
            "27/27 [==============================] - 64s 2s/step - loss: 0.0167 - acc: 0.9930 - val_loss: 0.6257 - val_acc: 0.8889\n",
            "Learning Rate:  0.001664999988861382\n",
            "Epoch 120/200\n",
            "27/27 [==============================] - 63s 2s/step - loss: 0.0178 - acc: 0.9954 - val_loss: 0.5823 - val_acc: 0.8889\n",
            "Learning Rate:  0.0017325000371783972\n",
            "Epoch 121/200\n",
            "27/27 [==============================] - 64s 2s/step - loss: 0.0137 - acc: 0.9942 - val_loss: 0.6231 - val_acc: 0.8889\n",
            "Learning Rate:  0.0017999999690800905\n",
            "Epoch 122/200\n",
            "27/27 [==============================] - 63s 2s/step - loss: 0.0144 - acc: 0.9942 - val_loss: 0.5966 - val_acc: 0.9167\n",
            "Learning Rate:  0.0018675000173971057\n",
            "Epoch 123/200\n",
            "27/27 [==============================] - 63s 2s/step - loss: 0.0294 - acc: 0.9862 - val_loss: 0.8689 - val_acc: 0.9167\n",
            "Learning Rate:  0.000611900701187551\n",
            "Epoch 124/200\n",
            "27/27 [==============================] - 64s 2s/step - loss: 0.0297 - acc: 0.9839 - val_loss: 0.8922 - val_acc: 0.8611\n",
            "Learning Rate:  0.002002499997615814\n",
            "Epoch 125/200\n",
            "27/27 [==============================] - 63s 2s/step - loss: 0.0274 - acc: 0.9873 - val_loss: 0.7640 - val_acc: 0.8889\n",
            "Learning Rate:  0.0020699999295175076\n",
            "Epoch 126/200\n",
            "27/27 [==============================] - 64s 2s/step - loss: 0.0275 - acc: 0.9891 - val_loss: 0.5114 - val_acc: 0.8889\n",
            "Learning Rate:  0.0021375000942498446\n",
            "Epoch 127/200\n",
            "26/27 [===========================>..] - ETA: 2s - loss: 0.0188 - acc: 0.9892 0.0021375000942498446\n",
            "27/27 [==============================] - 64s 2s/step - loss: 0.0181 - acc: 0.9896 - val_loss: 0.4012 - val_acc: 0.8611\n",
            "Learning Rate:  0.002205000026151538\n",
            "Epoch 128/200\n",
            "27/27 [==============================] - 64s 2s/step - loss: 0.0127 - acc: 0.9954 - val_loss: 0.3773 - val_acc: 0.8889\n",
            "Learning Rate:  0.0007186275906860828\n",
            "Epoch 129/200\n",
            "27/27 [==============================] - 63s 2s/step - loss: 0.0181 - acc: 0.9954 - val_loss: 0.4344 - val_acc: 0.8889\n",
            "Learning Rate:  0.0023399998899549246\n",
            "Epoch 130/200\n",
            "27/27 [==============================] - 64s 2s/step - loss: 0.0153 - acc: 0.9930 - val_loss: 0.5243 - val_acc: 0.8889\n",
            "Learning Rate:  0.0024075000546872616\n",
            "Epoch 131/200\n",
            "27/27 [==============================] - 64s 2s/step - loss: 0.0163 - acc: 0.9907 - val_loss: 0.4688 - val_acc: 0.8889\n",
            "Learning Rate:  0.002474999986588955\n",
            "Epoch 132/200\n",
            "27/27 [==============================] - 63s 2s/step - loss: 0.0140 - acc: 0.9919 - val_loss: 0.4716 - val_acc: 0.9167\n",
            "Learning Rate:  0.0025424999184906483\n",
            "Epoch 133/200\n",
            "27/27 [==============================] - 64s 2s/step - loss: 0.0148 - acc: 0.9930 - val_loss: 0.5171 - val_acc: 0.9167\n",
            "Learning Rate:  0.0008253544801846147\n",
            "Epoch 134/200\n",
            "27/27 [==============================] - 63s 2s/step - loss: 0.0726 - acc: 0.9770 - val_loss: 0.5186 - val_acc: 0.8611\n",
            "Learning Rate:  0.0026775000151246786\n",
            "Epoch 135/200\n",
            "27/27 [==============================] - 64s 2s/step - loss: 0.0292 - acc: 0.9873 - val_loss: 0.3059 - val_acc: 0.8889\n",
            "Learning Rate:  0.002744999947026372\n",
            "Epoch 136/200\n",
            "27/27 [==============================] - 63s 2s/step - loss: 0.0243 - acc: 0.9867 - val_loss: 0.3752 - val_acc: 0.9167\n",
            "Learning Rate:  0.002812500111758709\n",
            "Epoch 137/200\n",
            "26/27 [===========================>..] - ETA: 2s - loss: 0.0175 - acc: 0.9940Epoch 137/200\n",
            "27/27 [==============================] - 63s 2s/step - loss: 0.0174 - acc: 0.9942 - val_loss: 0.4778 - val_acc: 0.8889\n",
            "Learning Rate:  0.0028800000436604023\n",
            "Epoch 138/200\n",
            "26/27 [===========================>..] - ETA: 2s - loss: 0.0198 - acc: 0.9916Learning Rate:  0.0028800000436604023\n",
            "27/27 [==============================] - 64s 2s/step - loss: 0.0192 - acc: 0.9919 - val_loss: 0.7780 - val_acc: 0.8889\n",
            "Learning Rate:  0.0009320813114754856\n",
            "Epoch 139/200\n",
            "27/27 [==============================] - 63s 2s/step - loss: 0.0224 - acc: 0.9919 - val_loss: 0.8763 - val_acc: 0.8889\n",
            "Learning Rate:  0.003014999907463789\n",
            "Epoch 140/200\n",
            "26/27 [===========================>..] - ETA: 2s - loss: 0.0588 - acc: 0.9758 0.003014999907463789\n",
            "Epoch 140/200\n",
            "27/27 [==============================] - 65s 2s/step - loss: 0.0564 - acc: 0.9770 - val_loss: 0.9832 - val_acc: 0.8889\n",
            "Learning Rate:  0.003082500072196126\n",
            "Epoch 141/200\n",
            "26/27 [===========================>..] - ETA: 2s - loss: 0.0592 - acc: 0.9856Learning Rate:  0.003082500072196126\n",
            "27/27 [==============================] - 63s 2s/step - loss: 0.0572 - acc: 0.9861 - val_loss: 0.8461 - val_acc: 0.8889\n",
            "Learning Rate:  0.0031500000040978193\n",
            "Epoch 142/200\n",
            "27/27 [==============================] - 64s 2s/step - loss: 0.0205 - acc: 0.9879 - val_loss: 0.8043 - val_acc: 0.8889\n",
            "Learning Rate:  0.0032174999359995127\n",
            "Epoch 143/200\n",
            "27/27 [==============================] - 64s 2s/step - loss: 0.0141 - acc: 0.9907 - val_loss: 0.7357 - val_acc: 0.8611\n",
            "Learning Rate:  0.0010388082591816783\n",
            "Epoch 144/200\n",
            "27/27 [==============================] - 63s 2s/step - loss: 0.0257 - acc: 0.9844 - val_loss: 0.8188 - val_acc: 0.8333\n",
            "Learning Rate:  0.003352500032633543\n",
            "Epoch 145/200\n",
            "27/27 [==============================] - 64s 2s/step - loss: 0.0255 - acc: 0.9856 - val_loss: 0.6888 - val_acc: 0.8889\n",
            "Learning Rate:  0.0034199999645352364\n",
            "Epoch 146/200\n",
            "27/27 [==============================] - 63s 2s/step - loss: 0.0176 - acc: 0.9930 - val_loss: 0.6736 - val_acc: 0.8889\n",
            "Learning Rate:  0.0034874998964369297\n",
            "Epoch 147/200\n",
            "27/27 [==============================] - 63s 2s/step - loss: 0.0133 - acc: 0.9930 - val_loss: 0.7035 - val_acc: 0.8889\n",
            "Learning Rate:  0.0035550000611692667\n",
            "Epoch 148/200\n",
            "27/27 [==============================] - 63s 2s/step - loss: 0.0360 - acc: 0.9856 - val_loss: 1.7818 - val_acc: 0.7778\n",
            "Learning Rate:  0.0011455350322648883\n",
            "Epoch 149/200\n",
            "27/27 [==============================] - 63s 2s/step - loss: 0.0398 - acc: 0.9833 - val_loss: 0.8987 - val_acc: 0.8333\n",
            "Learning Rate:  0.0036899999249726534\n",
            "Epoch 150/200\n",
            "27/27 [==============================] - 63s 2s/step - loss: 0.0175 - acc: 0.9907 - val_loss: 1.1504 - val_acc: 0.8611\n",
            "Learning Rate:  0.0037575000897049904\n",
            "Epoch 151/200\n",
            "27/27 [==============================] - 63s 2s/step - loss: 0.0162 - acc: 0.9907 - val_loss: 1.1716 - val_acc: 0.8333\n",
            "Learning Rate:  0.0038250000216066837\n",
            "Epoch 152/200\n",
            "27/27 [==============================] - 62s 2s/step - loss: 0.0100 - acc: 0.9942 - val_loss: 1.1528 - val_acc: 0.8611\n",
            "Learning Rate:  0.003892499953508377\n",
            "Epoch 153/200\n",
            "26/27 [===========================>..] - ETA: 2s - loss: 0.0157 - acc: 0.9916 0.003892499953508377\n",
            "27/27 [==============================] - 62s 2s/step - loss: 0.0157 - acc: 0.9919 - val_loss: 1.1132 - val_acc: 0.8611\n",
            "Learning Rate:  0.00125226192176342\n",
            "Epoch 154/200\n",
            "27/27 [==============================] - 63s 2s/step - loss: 0.0118 - acc: 0.9930 - val_loss: 1.0239 - val_acc: 0.8611\n",
            "Learning Rate:  0.004027499817311764\n",
            "Epoch 155/200\n",
            "27/27 [==============================] - 62s 2s/step - loss: 0.0158 - acc: 0.9919 - val_loss: 0.9419 - val_acc: 0.8611\n",
            "Learning Rate:  0.004095000214874744\n",
            "Epoch 156/200\n",
            "27/27 [==============================] - 63s 2s/step - loss: 0.0143 - acc: 0.9919 - val_loss: 1.0908 - val_acc: 0.8889\n",
            "Learning Rate:  0.004162500146776438\n",
            "Epoch 157/200\n",
            "27/27 [==============================] - 64s 2s/step - loss: 0.0221 - acc: 0.9896 - val_loss: 0.9710 - val_acc: 0.8889\n",
            "Learning Rate:  0.004230000078678131\n",
            "Epoch 158/200\n",
            "27/27 [==============================] - 63s 2s/step - loss: 0.0128 - acc: 0.9919 - val_loss: 0.9509 - val_acc: 0.8889\n",
            "Learning Rate:  0.001358988811261952\n",
            "Epoch 159/200\n",
            "27/27 [==============================] - 62s 2s/step - loss: 0.0198 - acc: 0.9907 - val_loss: 0.7968 - val_acc: 0.9167\n",
            "Learning Rate:  0.004364999942481518\n",
            "Epoch 160/200\n",
            "27/27 [==============================] - 65s 2s/step - loss: 0.0134 - acc: 0.9930 - val_loss: 0.7293 - val_acc: 0.8889\n",
            "Learning Rate:  0.004432499874383211\n",
            "Epoch 161/200\n",
            "27/27 [==============================] - 62s 2s/step - loss: 0.0138 - acc: 0.9930 - val_loss: 0.6222 - val_acc: 0.8611\n",
            "Learning Rate:  0.0044999998062849045\n",
            "Epoch 162/200\n",
            "27/27 [==============================] - 64s 2s/step - loss: 0.0162 - acc: 0.9930 - val_loss: 0.6512 - val_acc: 0.8889\n",
            "Learning Rate:  0.004567500203847885\n",
            "Epoch 163/200\n",
            "26/27 [===========================>..] - ETA: 2s - loss: 0.0201 - acc: 0.9928Learning Rate:  0.004567500203847885\n",
            "27/27 [==============================] - 64s 2s/step - loss: 0.0206 - acc: 0.9919 - val_loss: 0.9872 - val_acc: 0.8611\n",
            "Learning Rate:  0.0014657157007604837\n",
            "Epoch 164/200\n",
            "27/27 [==============================] - 64s 2s/step - loss: 0.0158 - acc: 0.9930 - val_loss: 1.1370 - val_acc: 0.8333\n",
            "Learning Rate:  0.004702500067651272\n",
            "Epoch 165/200\n",
            "27/27 [==============================] - 63s 2s/step - loss: 0.0576 - acc: 0.9786 - val_loss: 0.9159 - val_acc: 0.8611\n",
            "Learning Rate:  0.004769999999552965\n",
            "Epoch 166/200\n",
            "27/27 [==============================] - 62s 2s/step - loss: 0.0295 - acc: 0.9884 - val_loss: 0.8140 - val_acc: 0.8611\n",
            "Learning Rate:  0.0048374999314546585\n",
            "Epoch 167/200\n",
            "27/27 [==============================] - 62s 2s/step - loss: 0.0202 - acc: 0.9884 - val_loss: 0.8213 - val_acc: 0.8611\n",
            "Learning Rate:  0.004904999863356352\n",
            "Epoch 168/200\n",
            "27/27 [==============================] - 63s 2s/step - loss: 0.0867 - acc: 0.9775 - val_loss: 0.9905 - val_acc: 0.8611\n",
            "Learning Rate:  0.0015724424738436937\n",
            "Epoch 169/200\n",
            "27/27 [==============================] - 63s 2s/step - loss: 0.0466 - acc: 0.9821 - val_loss: 1.3838 - val_acc: 0.8333\n",
            "Learning Rate:  0.005040000192821026\n",
            "Epoch 170/200\n",
            "27/27 [==============================] - 62s 2s/step - loss: 0.0212 - acc: 0.9930 - val_loss: 1.2621 - val_acc: 0.8333\n",
            "Learning Rate:  0.005107500124722719\n",
            "Epoch 171/200\n",
            "27/27 [==============================] - 64s 2s/step - loss: 0.0858 - acc: 0.9647 - val_loss: 1.3126 - val_acc: 0.7500\n",
            "Learning Rate:  0.0051750000566244125\n",
            "Epoch 172/200\n",
            "27/27 [==============================] - 64s 2s/step - loss: 0.0345 - acc: 0.9884 - val_loss: 1.2448 - val_acc: 0.8333\n",
            "Learning Rate:  0.005242499988526106\n",
            "Epoch 173/200\n",
            "27/27 [==============================] - 64s 2s/step - loss: 0.1048 - acc: 0.9655 - val_loss: 2.5076 - val_acc: 0.6389\n",
            "Learning Rate:  0.0016791693633422256\n",
            "Epoch 174/200\n",
            "27/27 [==============================] - 63s 2s/step - loss: 0.1308 - acc: 0.9543 - val_loss: 1.2445 - val_acc: 0.7500\n",
            "Learning Rate:  0.005377499852329493\n",
            "Epoch 175/200\n",
            "27/27 [==============================] - 64s 2s/step - loss: 0.0578 - acc: 0.9791 - val_loss: 1.0066 - val_acc: 0.7778\n",
            "Learning Rate:  0.005444999784231186\n",
            "Epoch 176/200\n",
            "27/27 [==============================] - 64s 2s/step - loss: 0.0254 - acc: 0.9896 - val_loss: 1.1436 - val_acc: 0.8056\n",
            "Learning Rate:  0.0055125001817941666\n",
            "Epoch 177/200\n",
            "27/27 [==============================] - 65s 2s/step - loss: 0.0284 - acc: 0.9856 - val_loss: 1.2509 - val_acc: 0.7500\n",
            "Learning Rate:  0.00558000011369586\n",
            "Epoch 178/200\n",
            "27/27 [==============================] - 64s 2s/step - loss: 0.0304 - acc: 0.9919 - val_loss: 1.0949 - val_acc: 0.8611\n",
            "Learning Rate:  0.0017858963692560792\n",
            "Epoch 179/200\n",
            "27/27 [==============================] - 64s 2s/step - loss: 0.0189 - acc: 0.9907 - val_loss: 1.1341 - val_acc: 0.7778\n",
            "Learning Rate:  0.005714999977499247\n",
            "Epoch 180/200\n",
            "27/27 [==============================] - 64s 2s/step - loss: 0.0197 - acc: 0.9884 - val_loss: 1.0341 - val_acc: 0.8333\n",
            "Learning Rate:  0.00578249990940094\n",
            "Epoch 181/200\n",
            "27/27 [==============================] - 64s 2s/step - loss: 0.0143 - acc: 0.9954 - val_loss: 1.0142 - val_acc: 0.8611\n",
            "Learning Rate:  0.005849999841302633\n",
            "Epoch 182/200\n",
            "27/27 [==============================] - 64s 2s/step - loss: 0.0166 - acc: 0.9930 - val_loss: 0.8776 - val_acc: 0.8333\n",
            "Learning Rate:  0.005917499773204327\n",
            "Epoch 183/200\n",
            "27/27 [==============================] - 64s 2s/step - loss: 0.0246 - acc: 0.9896 - val_loss: 0.7589 - val_acc: 0.8333\n",
            "Learning Rate:  0.001892623258754611\n",
            "Epoch 184/200\n",
            "27/27 [==============================] - 64s 2s/step - loss: 0.0230 - acc: 0.9884 - val_loss: 0.7168 - val_acc: 0.8333\n",
            "Learning Rate:  0.005947500001639128\n",
            "Epoch 185/200\n",
            "27/27 [==============================] - 63s 2s/step - loss: 0.0136 - acc: 0.9907 - val_loss: 0.6976 - val_acc: 0.8889\n",
            "Learning Rate:  0.005880000069737434\n",
            "Epoch 186/200\n",
            "27/27 [==============================] - 63s 2s/step - loss: 0.0151 - acc: 0.9930 - val_loss: 0.6872 - val_acc: 0.8889\n",
            "Learning Rate:  0.005812500137835741\n",
            "Epoch 187/200\n",
            "27/27 [==============================] - 63s 2s/step - loss: 0.0157 - acc: 0.9930 - val_loss: 1.1125 - val_acc: 0.8611\n",
            "Learning Rate:  0.005745000205934048\n",
            "Epoch 188/200\n",
            "27/27 [==============================] - 65s 2s/step - loss: 0.0466 - acc: 0.9844 - val_loss: 0.8397 - val_acc: 0.8611\n",
            "Learning Rate:  0.0017953830538317561\n",
            "Epoch 189/200\n",
            "27/27 [==============================] - 64s 2s/step - loss: 0.0363 - acc: 0.9833 - val_loss: 1.0445 - val_acc: 0.8889\n",
            "Learning Rate:  0.005609999876469374\n",
            "Epoch 190/200\n",
            "27/27 [==============================] - 64s 2s/step - loss: 0.0563 - acc: 0.9786 - val_loss: 1.0649 - val_acc: 0.8056\n",
            "Learning Rate:  0.00554249994456768\n",
            "Epoch 191/200\n",
            "27/27 [==============================] - 64s 2s/step - loss: 0.0751 - acc: 0.9745 - val_loss: 0.7808 - val_acc: 0.8333\n",
            "Learning Rate:  0.005475000012665987\n",
            "Epoch 192/200\n",
            "27/27 [==============================] - 64s 2s/step - loss: 0.0528 - acc: 0.9791 - val_loss: 0.5575 - val_acc: 0.9444\n",
            "Learning Rate:  0.005407500080764294\n",
            "Epoch 193/200\n",
            "27/27 [==============================] - 64s 2s/step - loss: 0.0945 - acc: 0.9775 - val_loss: 1.1115 - val_acc: 0.7500\n",
            "Learning Rate:  0.0016886562807485461\n",
            "Epoch 194/200\n",
            "27/27 [==============================] - 63s 2s/step - loss: 0.0443 - acc: 0.9803 - val_loss: 0.6499 - val_acc: 0.8889\n",
            "Learning Rate:  0.005272500216960907\n",
            "Epoch 195/200\n",
            "27/27 [==============================] - 63s 2s/step - loss: 0.0361 - acc: 0.9838 - val_loss: 0.6981 - val_acc: 0.9167\n",
            "Learning Rate:  0.005204999819397926\n",
            "Epoch 196/200\n",
            "27/27 [==============================] - 65s 2s/step - loss: 0.0286 - acc: 0.9861 - val_loss: 0.6496 - val_acc: 0.8889\n",
            "Learning Rate:  0.005137499887496233\n",
            "Epoch 197/200\n",
            "27/27 [==============================] - 63s 2s/step - loss: 0.0212 - acc: 0.9896 - val_loss: 0.7261 - val_acc: 0.9167\n",
            "Learning Rate:  0.00506999995559454\n",
            "Epoch 198/200\n",
            "27/27 [==============================] - 65s 2s/step - loss: 0.0169 - acc: 0.9930 - val_loss: 0.7644 - val_acc: 0.8889\n",
            "Learning Rate:  0.0015819293912500143\n",
            "Epoch 199/200\n",
            "27/27 [==============================] - 64s 2s/step - loss: 0.0184 - acc: 0.9919 - val_loss: 0.6739 - val_acc: 0.8611\n",
            "Learning Rate:  0.004935000091791153\n",
            "Epoch 200/200\n",
            "27/27 [==============================] - 64s 2s/step - loss: 0.0149 - acc: 0.9907 - val_loss: 0.6838 - val_acc: 0.8611\n",
            "Learning Rate:  0.00486750015988946\n"
          ],
          "name": "stdout"
        },
        {
          "output_type": "execute_result",
          "data": {
            "text/plain": [
              "<keras.callbacks.History at 0x7f687843c470>"
            ]
          },
          "metadata": {
            "tags": []
          },
          "execution_count": 60
        }
      ]
    },
    {
      "cell_type": "code",
      "metadata": {
        "id": "du2NBqat7DW3"
      },
      "source": [
        "#model.load_weights('/content/resnet50.h5')"
      ],
      "execution_count": null,
      "outputs": []
    },
    {
      "cell_type": "code",
      "metadata": {
        "id": "ywKxSqSNmu78",
        "colab": {
          "base_uri": "https://localhost:8080/",
          "height": 34
        },
        "outputId": "ef318cc4-cfa1-4d43-e832-eb5af906e54b"
      },
      "source": [
        "#model.evaluate_generator(generator=validation_generator,verbose=0) first resnet101v2 imagenet weights "
      ],
      "execution_count": null,
      "outputs": [
        {
          "output_type": "execute_result",
          "data": {
            "text/plain": [
              "[0.14675359981548455, 0.9444444444444444]"
            ]
          },
          "metadata": {
            "tags": []
          },
          "execution_count": 45
        }
      ]
    },
    {
      "cell_type": "code",
      "metadata": {
        "id": "w6r0EXVQGtk2",
        "colab": {
          "base_uri": "https://localhost:8080/",
          "height": 34
        },
        "outputId": "4039e10e-8be9-43e8-8571-b97eb9001aaf"
      },
      "source": [
        "model.evaluate_generator(generator=validation_generator,verbose=0) #second one"
      ],
      "execution_count": null,
      "outputs": [
        {
          "output_type": "execute_result",
          "data": {
            "text/plain": [
              "[0.6837722642554209, 0.8611111111111112]"
            ]
          },
          "metadata": {
            "tags": []
          },
          "execution_count": 61
        }
      ]
    },
    {
      "cell_type": "code",
      "metadata": {
        "id": "sjZLtS6KvYpt",
        "colab": {
          "base_uri": "https://localhost:8080/",
          "height": 34
        },
        "outputId": "98124044-a8f6-497a-e2dc-d1b753cdac7a"
      },
      "source": [
        "test_generator.reset()\n",
        "predictions=model.predict_generator(test_generator,verbose=1)\n",
        "#print(\"loss: %.3f - acc: %.3f\" % (predictions[0], predictions[1]))"
      ],
      "execution_count": null,
      "outputs": [
        {
          "output_type": "stream",
          "text": [
            "610/610 [==============================] - 54s 88ms/step\n"
          ],
          "name": "stdout"
        }
      ]
    },
    {
      "cell_type": "code",
      "metadata": {
        "id": "erMUpMHkvZUy",
        "colab": {
          "base_uri": "https://localhost:8080/",
          "height": 119
        },
        "outputId": "6250ba75-6666-4210-b9ec-730b8d305e73"
      },
      "source": [
        "data=predictions.round(decimals=3)\n",
        "data[0:6]"
      ],
      "execution_count": null,
      "outputs": [
        {
          "output_type": "execute_result",
          "data": {
            "text/plain": [
              "array([[0., 1., 0.],\n",
              "       [0., 0., 1.],\n",
              "       [0., 1., 0.],\n",
              "       [1., 0., 0.],\n",
              "       [1., 0., 0.],\n",
              "       [0., 0., 1.]], dtype=float32)"
            ]
          },
          "metadata": {
            "tags": []
          },
          "execution_count": 63
        }
      ]
    },
    {
      "cell_type": "code",
      "metadata": {
        "id": "JzsEEs-AvaXA"
      },
      "source": [
        "predicted_class_indices=np.argmax(predictions,axis=1)\n",
        "labels = (train_generator.class_indices)\n",
        "labels1 = dict((v,k) for k,v in labels.items())\n",
        "pred = [labels1[k] for k in predicted_class_indices]"
      ],
      "execution_count": null,
      "outputs": []
    },
    {
      "cell_type": "code",
      "metadata": {
        "id": "EXyrCr1fw30r",
        "colab": {
          "base_uri": "https://localhost:8080/",
          "height": 119
        },
        "outputId": "9157052a-b03e-492d-c829-dca0f28ac254"
      },
      "source": [
        "pred[0:6]"
      ],
      "execution_count": null,
      "outputs": [
        {
          "output_type": "execute_result",
          "data": {
            "text/plain": [
              "['leaf_rust',\n",
              " 'stem_rust',\n",
              " 'leaf_rust',\n",
              " 'healthy_wheat',\n",
              " 'healthy_wheat',\n",
              " 'stem_rust']"
            ]
          },
          "metadata": {
            "tags": []
          },
          "execution_count": 65
        }
      ]
    },
    {
      "cell_type": "code",
      "metadata": {
        "id": "wFSnpCD_w4Ne"
      },
      "source": [
        "filenames=test_generator.filenames\n",
        "results=pd.DataFrame({\"Filename\":filenames,\n",
        "                      \"Predictions\":pred})\n"
      ],
      "execution_count": null,
      "outputs": []
    },
    {
      "cell_type": "code",
      "metadata": {
        "id": "sAzwwABnw_zp"
      },
      "source": [
        "def get_ids(filenames):\n",
        "  for i in filenames:\n",
        "    k=i.split('/')\n",
        "    kk=k[1].split('.')\n",
        "    return kk[0]"
      ],
      "execution_count": null,
      "outputs": []
    },
    {
      "cell_type": "code",
      "metadata": {
        "id": "3M2gIHhIxHZq"
      },
      "source": [
        "results['Filename']=results.apply(lambda x: get_ids(x),axis=1)"
      ],
      "execution_count": null,
      "outputs": []
    },
    {
      "cell_type": "code",
      "metadata": {
        "id": "uEKd1w2txMr-"
      },
      "source": [
        ""
      ],
      "execution_count": null,
      "outputs": []
    },
    {
      "cell_type": "code",
      "metadata": {
        "id": "s1Yi5LCUxM_d",
        "colab": {
          "base_uri": "https://localhost:8080/",
          "height": 34
        },
        "outputId": "941f431e-6573-498b-c0d5-16c1a4a0d2a4"
      },
      "source": [
        "leaf_rust=pd.Series(range(610),name='leaf_rust',dtype=np.float32)\n",
        "stem_rust=pd.Series(range(610),name='stem_rust',dtype=np.float32)\n",
        "healthy_wheat=pd.Series(range(610),name='healthy_wheat',dtype=np.float32)\n",
        "sub=pd.concat([healthy_wheat,leaf_rust,stem_rust],axis=1)\n",
        "sub.shape"
      ],
      "execution_count": null,
      "outputs": [
        {
          "output_type": "execute_result",
          "data": {
            "text/plain": [
              "(610, 3)"
            ]
          },
          "metadata": {
            "tags": []
          },
          "execution_count": 69
        }
      ]
    },
    {
      "cell_type": "code",
      "metadata": {
        "id": "LxomtfJkxYRT"
      },
      "source": [
        ""
      ],
      "execution_count": null,
      "outputs": []
    },
    {
      "cell_type": "code",
      "metadata": {
        "id": "az6b0ynF93hY",
        "colab": {
          "base_uri": "https://localhost:8080/",
          "height": 34
        },
        "outputId": "83372f3c-f74a-4cd4-f055-2844132b161e"
      },
      "source": [
        "for i in tqdm(range(0,len(data))):\n",
        "  sub.loc[i]=data[i]"
      ],
      "execution_count": null,
      "outputs": [
        {
          "output_type": "stream",
          "text": [
            "100%|██████████| 610/610 [00:00<00:00, 5884.08it/s]\n"
          ],
          "name": "stderr"
        }
      ]
    },
    {
      "cell_type": "code",
      "metadata": {
        "id": "jo-XbJWlxeDP"
      },
      "source": [
        "sub[\"ID\"]=results['Filename']"
      ],
      "execution_count": null,
      "outputs": []
    },
    {
      "cell_type": "code",
      "metadata": {
        "id": "vYbhEw0Pxj2Q",
        "colab": {
          "base_uri": "https://localhost:8080/",
          "height": 173
        },
        "outputId": "fedf88f1-78b1-4cef-fec3-57316a55d177"
      },
      "source": [
        "sub.head(4)"
      ],
      "execution_count": null,
      "outputs": [
        {
          "output_type": "execute_result",
          "data": {
            "text/html": [
              "<div>\n",
              "<style scoped>\n",
              "    .dataframe tbody tr th:only-of-type {\n",
              "        vertical-align: middle;\n",
              "    }\n",
              "\n",
              "    .dataframe tbody tr th {\n",
              "        vertical-align: top;\n",
              "    }\n",
              "\n",
              "    .dataframe thead th {\n",
              "        text-align: right;\n",
              "    }\n",
              "</style>\n",
              "<table border=\"1\" class=\"dataframe\">\n",
              "  <thead>\n",
              "    <tr style=\"text-align: right;\">\n",
              "      <th></th>\n",
              "      <th>healthy_wheat</th>\n",
              "      <th>leaf_rust</th>\n",
              "      <th>stem_rust</th>\n",
              "      <th>ID</th>\n",
              "    </tr>\n",
              "  </thead>\n",
              "  <tbody>\n",
              "    <tr>\n",
              "      <th>0</th>\n",
              "      <td>0.0</td>\n",
              "      <td>1.0</td>\n",
              "      <td>0.0</td>\n",
              "      <td>008FWT</td>\n",
              "    </tr>\n",
              "    <tr>\n",
              "      <th>1</th>\n",
              "      <td>0.0</td>\n",
              "      <td>0.0</td>\n",
              "      <td>1.0</td>\n",
              "      <td>00AQXY</td>\n",
              "    </tr>\n",
              "    <tr>\n",
              "      <th>2</th>\n",
              "      <td>0.0</td>\n",
              "      <td>1.0</td>\n",
              "      <td>0.0</td>\n",
              "      <td>01OJZX</td>\n",
              "    </tr>\n",
              "    <tr>\n",
              "      <th>3</th>\n",
              "      <td>1.0</td>\n",
              "      <td>0.0</td>\n",
              "      <td>0.0</td>\n",
              "      <td>07OXKK</td>\n",
              "    </tr>\n",
              "  </tbody>\n",
              "</table>\n",
              "</div>"
            ],
            "text/plain": [
              "   healthy_wheat  leaf_rust  stem_rust      ID\n",
              "0            0.0        1.0        0.0  008FWT\n",
              "1            0.0        0.0        1.0  00AQXY\n",
              "2            0.0        1.0        0.0  01OJZX\n",
              "3            1.0        0.0        0.0  07OXKK"
            ]
          },
          "metadata": {
            "tags": []
          },
          "execution_count": 72
        }
      ]
    },
    {
      "cell_type": "code",
      "metadata": {
        "id": "qSjs9A4dAop5"
      },
      "source": [
        "submit=sub[['ID','leaf_rust','stem_rust','healthy_wheat']]"
      ],
      "execution_count": null,
      "outputs": []
    },
    {
      "cell_type": "code",
      "metadata": {
        "id": "jLYo1D9n99MJ",
        "colab": {
          "base_uri": "https://localhost:8080/",
          "height": 235
        },
        "outputId": "ab3ec49e-745f-447f-a35b-050577e96c43"
      },
      "source": [
        "submit.head(6)"
      ],
      "execution_count": null,
      "outputs": [
        {
          "output_type": "execute_result",
          "data": {
            "text/html": [
              "<div>\n",
              "<style scoped>\n",
              "    .dataframe tbody tr th:only-of-type {\n",
              "        vertical-align: middle;\n",
              "    }\n",
              "\n",
              "    .dataframe tbody tr th {\n",
              "        vertical-align: top;\n",
              "    }\n",
              "\n",
              "    .dataframe thead th {\n",
              "        text-align: right;\n",
              "    }\n",
              "</style>\n",
              "<table border=\"1\" class=\"dataframe\">\n",
              "  <thead>\n",
              "    <tr style=\"text-align: right;\">\n",
              "      <th></th>\n",
              "      <th>ID</th>\n",
              "      <th>leaf_rust</th>\n",
              "      <th>stem_rust</th>\n",
              "      <th>healthy_wheat</th>\n",
              "    </tr>\n",
              "  </thead>\n",
              "  <tbody>\n",
              "    <tr>\n",
              "      <th>0</th>\n",
              "      <td>008FWT</td>\n",
              "      <td>1.0</td>\n",
              "      <td>0.0</td>\n",
              "      <td>0.0</td>\n",
              "    </tr>\n",
              "    <tr>\n",
              "      <th>1</th>\n",
              "      <td>00AQXY</td>\n",
              "      <td>0.0</td>\n",
              "      <td>1.0</td>\n",
              "      <td>0.0</td>\n",
              "    </tr>\n",
              "    <tr>\n",
              "      <th>2</th>\n",
              "      <td>01OJZX</td>\n",
              "      <td>1.0</td>\n",
              "      <td>0.0</td>\n",
              "      <td>0.0</td>\n",
              "    </tr>\n",
              "    <tr>\n",
              "      <th>3</th>\n",
              "      <td>07OXKK</td>\n",
              "      <td>0.0</td>\n",
              "      <td>0.0</td>\n",
              "      <td>1.0</td>\n",
              "    </tr>\n",
              "    <tr>\n",
              "      <th>4</th>\n",
              "      <td>085IEC</td>\n",
              "      <td>0.0</td>\n",
              "      <td>0.0</td>\n",
              "      <td>1.0</td>\n",
              "    </tr>\n",
              "    <tr>\n",
              "      <th>5</th>\n",
              "      <td>08O2YE</td>\n",
              "      <td>0.0</td>\n",
              "      <td>1.0</td>\n",
              "      <td>0.0</td>\n",
              "    </tr>\n",
              "  </tbody>\n",
              "</table>\n",
              "</div>"
            ],
            "text/plain": [
              "       ID  leaf_rust  stem_rust  healthy_wheat\n",
              "0  008FWT        1.0        0.0            0.0\n",
              "1  00AQXY        0.0        1.0            0.0\n",
              "2  01OJZX        1.0        0.0            0.0\n",
              "3  07OXKK        0.0        0.0            1.0\n",
              "4  085IEC        0.0        0.0            1.0\n",
              "5  08O2YE        0.0        1.0            0.0"
            ]
          },
          "metadata": {
            "tags": []
          },
          "execution_count": 74
        }
      ]
    },
    {
      "cell_type": "code",
      "metadata": {
        "id": "YEhOiMo-xq5U"
      },
      "source": [
        "submit.to_csv('resnet101v2_fourth_submission.csv',index=False)"
      ],
      "execution_count": null,
      "outputs": []
    },
    {
      "cell_type": "code",
      "metadata": {
        "id": "fNPEIospw_wT"
      },
      "source": [
        ""
      ],
      "execution_count": null,
      "outputs": []
    },
    {
      "cell_type": "code",
      "metadata": {
        "id": "XJfbtmT6vabA"
      },
      "source": [
        ""
      ],
      "execution_count": null,
      "outputs": []
    },
    {
      "cell_type": "code",
      "metadata": {
        "id": "iPNbDP1svZQc"
      },
      "source": [
        ""
      ],
      "execution_count": null,
      "outputs": []
    },
    {
      "cell_type": "code",
      "metadata": {
        "id": "IR9qy_BHvZND"
      },
      "source": [
        ""
      ],
      "execution_count": null,
      "outputs": []
    },
    {
      "cell_type": "code",
      "metadata": {
        "id": "tsshhczQvYmO"
      },
      "source": [
        ""
      ],
      "execution_count": null,
      "outputs": []
    },
    {
      "cell_type": "code",
      "metadata": {
        "id": "cfbMrpYTvYiT"
      },
      "source": [
        ""
      ],
      "execution_count": null,
      "outputs": []
    },
    {
      "cell_type": "code",
      "metadata": {
        "id": "az7_rXc8vYbE"
      },
      "source": [
        ""
      ],
      "execution_count": null,
      "outputs": []
    }
  ]
}